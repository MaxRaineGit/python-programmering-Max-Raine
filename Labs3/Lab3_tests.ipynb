{
 "cells": [
  {
   "cell_type": "code",
   "execution_count": 1,
   "metadata": {},
   "outputs": [
    {
     "name": "stdout",
     "output_type": "stream",
     "text": [
      "Examples of rectangle area and omkrets:\n",
      "rectangle1's area = 8\n",
      "rectangle2's omkrets = 18\n",
      "\n",
      "Examples of circles area and omkrets:\n",
      "circle1's area = 12.566370614359172\n",
      "cirlcle2's omkrets = 37.69911184307752\n"
     ]
    }
   ],
   "source": [
    "from Classes import Rectangle\n",
    "from Classes import Circle\n",
    "\n",
    "rectangle1 = Rectangle(3, 4, 2, 4)\n",
    "rectangle2 = Rectangle(5, 7, 4, 5)\n",
    "circle1 = Circle(1, 3, 2)\n",
    "circle2 = Circle(6, 7, 6)\n",
    "\n",
    "print(\"Examples of rectangle area and omkrets:\")\n",
    "print(f\"rectangle1's area = {rectangle1.area}\")\n",
    "print(f\"rectangle2's omkrets = {rectangle2.omkrets}\")\n",
    "\n",
    "print()\n",
    "print(\"Examples of circles area and omkrets:\")\n",
    "print(f\"circle1's area = {circle1.area}\")\n",
    "print(f\"cirlcle2's omkrets = {circle2.omkrets}\")"
   ]
  },
  {
   "cell_type": "code",
   "execution_count": 2,
   "metadata": {},
   "outputs": [
    {
     "name": "stdout",
     "output_type": "stream",
     "text": [
      "comparing objects after overloading the == operator\n",
      "Circles:\n",
      "True\n",
      "False\n",
      "\n",
      "Rectangles:\n",
      "True\n",
      "False\n"
     ]
    }
   ],
   "source": [
    "from Classes import Rectangle\n",
    "from Classes import Circle\n",
    "\n",
    "circle1 = Circle(0, 0, 1)\n",
    "circle2 = Circle(0, 0, 1)\n",
    "circle3 = Circle(0, 0, 2)\n",
    "\n",
    "rectangle1 = Rectangle(0, 0, 1, 2)\n",
    "rectangle2 = Rectangle(0, 0, 1, 2)\n",
    "rectangle3 = Rectangle(0, 0, 2, 4)\n",
    "\n",
    "print(\"comparing objects after overloading the == operator\")\n",
    "print(\"Circles:\")\n",
    "print(circle1==circle2)\n",
    "print(circle1==circle3)\n",
    "print()\n",
    "print(\"Rectangles:\")\n",
    "print(rectangle1==rectangle2)\n",
    "print(rectangle1==rectangle3)"
   ]
  },
  {
   "cell_type": "code",
   "execution_count": 1,
   "metadata": {},
   "outputs": [
    {
     "name": "stdout",
     "output_type": "stream",
     "text": [
      "The objects positions:\n",
      "Circle1's midpoint is located at x = 4, y = 5\n",
      "rectangle1's midpoint is located at x = 2, y = 2\n",
      "\n",
      "Their new points:\n",
      "circle1 new x = 6, new y = 6\n",
      "rectangle1 new x = 8, new y = 9\n"
     ]
    }
   ],
   "source": [
    "from Classes import Rectangle\n",
    "from Classes import Circle\n",
    "\n",
    "circle1 = Circle(4, 5, 2)\n",
    "rectangle1 = Rectangle(2, 2, 3, 6)\n",
    "\n",
    "print(\"The objects positions:\")\n",
    "print(f\"Circle1's midpoint is located at x = {circle1.x}, y = {circle1.y}\")\n",
    "print(f\"rectangle1's midpoint is located at x = {rectangle1.x}, y = {rectangle1.y}\")\n",
    "\n",
    "circle1.move_point(6, 6)\n",
    "rectangle1.move_point(8, 9)\n",
    "\n",
    "print()\n",
    "print(\"Their new points:\")\n",
    "print(f\"circle1 new x = {circle1.x}, new y = {circle1.y}\")\n",
    "print(f\"rectangle1 new x = {rectangle1.x}, new y = {rectangle1.y}\")"
   ]
  },
  {
   "cell_type": "code",
   "execution_count": 1,
   "metadata": {},
   "outputs": [
    {
     "name": "stdout",
     "output_type": "stream",
     "text": [
      "Checking if a new point is inside either shape:\n",
      "is the point x = 4, y = 8 inside of circle1? answer: False\n",
      "is the point x = 4, y = 4 inside of rectangle1? answer: True\n"
     ]
    }
   ],
   "source": [
    "from Classes import Rectangle\n",
    "from Classes import Circle\n",
    "\n",
    "circle1 = Circle(4, 5, 2)\n",
    "rectangle1 = Rectangle(2, 3, 4, 5)\n",
    "\n",
    "print(\"Checking if a new point is inside either shape:\")\n",
    "print(f\"is the point x = 4, y = 8 inside of circle1? answer: {circle1.is_point_inside(4, 8)}\")\n",
    "print(f\"is the point x = 4, y = 4 inside of rectangle1? answer: {rectangle1.is_point_inside(4, 4)}\")"
   ]
  },
  {
   "cell_type": "code",
   "execution_count": 2,
   "metadata": {},
   "outputs": [
    {
     "name": "stdout",
     "output_type": "stream",
     "text": [
      "Checking if object is a unit circle:\n",
      "Circle1 is a unit circle? asnwer: True\n",
      "circle2 is a unit circle? answer: False\n",
      "\n",
      "Checking if rectangle object is a square:\n",
      "rectangle1 is a square? answer: True\n",
      "rectangle2 is a square? answer: False\n"
     ]
    }
   ],
   "source": [
    "from Classes import Rectangle\n",
    "from Classes import Circle\n",
    "\n",
    "circle1 = Circle(0, 0, 1)\n",
    "circle2 = Circle(0, 0, 2)\n",
    "\n",
    "print(\"Checking if object is a unit circle:\")\n",
    "print(f\"Circle1 is a unit circle? asnwer: {circle1.is_unit_circle()}\")\n",
    "print(f\"circle2 is a unit circle? answer: {circle2.is_unit_circle()}\")\n",
    "\n",
    "rectangle1 = Rectangle(0, 0, 2, 2)\n",
    "rectangle2 = Rectangle(0, 0, 2, 3)\n",
    "\n",
    "print()\n",
    "print(\"Checking if rectangle object is a square:\")\n",
    "print(f\"rectangle1 is a square? answer: {rectangle1.is_square()}\")\n",
    "print(f\"rectangle2 is a square? answer: {rectangle2.is_square()}\")"
   ]
  }
 ],
 "metadata": {
  "kernelspec": {
   "display_name": "python-programmering-Max-Raine-Y7IIHyHe",
   "language": "python",
   "name": "python3"
  },
  "language_info": {
   "codemirror_mode": {
    "name": "ipython",
    "version": 3
   },
   "file_extension": ".py",
   "mimetype": "text/x-python",
   "name": "python",
   "nbconvert_exporter": "python",
   "pygments_lexer": "ipython3",
   "version": "3.11.5"
  }
 },
 "nbformat": 4,
 "nbformat_minor": 2
}
