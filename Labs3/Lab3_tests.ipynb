{
 "cells": [
  {
   "cell_type": "code",
   "execution_count": 6,
   "metadata": {},
   "outputs": [
    {
     "name": "stdout",
     "output_type": "stream",
     "text": [
      "Examples of rectangle area and omkrets:\n",
      "rectangle1's area = 8\n",
      "rectangle2's omkrets = 18\n",
      "\n",
      "Examples of circles area and omkrets:\n",
      "circle1's area = 12.566370614359172\n",
      "cirlcle2's omkrets = 37.69911184307752\n"
     ]
    }
   ],
   "source": [
    "from Classes import Rectangle\n",
    "from Classes import Circle\n",
    "\n",
    "rectangle1 = Rectangle(2, 4)\n",
    "rectangle2 = Rectangle(4, 5)\n",
    "circle1 = Circle(2)\n",
    "circle2 = Circle(6)\n",
    "\n",
    "print(\"Examples of rectangle area and omkrets:\")\n",
    "print(f\"rectangle1's area = {rectangle1.area}\")\n",
    "print(f\"rectangle2's omkrets = {rectangle2.omkrets}\")\n",
    "\n",
    "print()\n",
    "print(\"Examples of circles area and omkrets:\")\n",
    "print(f\"circle1's area = {circle1.area}\")\n",
    "print(f\"cirlcle2's omkrets = {circle2.omkrets}\")"
   ]
  },
  {
   "cell_type": "code",
   "execution_count": 4,
   "metadata": {},
   "outputs": [
    {
     "name": "stdout",
     "output_type": "stream",
     "text": [
      "comparing objects after overloading the == operator\n",
      "Circles:\n",
      "True\n",
      "False\n",
      "\n",
      "Rectangles:\n",
      "True\n",
      "False\n"
     ]
    }
   ],
   "source": [
    "from Classes import Rectangle\n",
    "from Classes import Circle\n",
    "\n",
    "circle1 = Circle(1)\n",
    "circle2 = Circle(1)\n",
    "circle3 = Circle(2)\n",
    "\n",
    "rectangle1 = Rectangle(1, 2)\n",
    "rectangle2 = Rectangle(1, 2)\n",
    "rectangle3 = Rectangle(2, 4)\n",
    "\n",
    "print(\"comparing objects after overloading the == operator\")\n",
    "print(\"Circles:\")\n",
    "print(circle1==circle2)\n",
    "print(circle1==circle3)\n",
    "print()\n",
    "print(\"Rectangles:\")\n",
    "print(rectangle1==rectangle2)\n",
    "print(rectangle1==rectangle3)"
   ]
  }
 ],
 "metadata": {
  "kernelspec": {
   "display_name": "python-programmering-Max-Raine-Y7IIHyHe",
   "language": "python",
   "name": "python3"
  },
  "language_info": {
   "codemirror_mode": {
    "name": "ipython",
    "version": 3
   },
   "file_extension": ".py",
   "mimetype": "text/x-python",
   "name": "python",
   "nbconvert_exporter": "python",
   "pygments_lexer": "ipython3",
   "version": "3.11.5"
  }
 },
 "nbformat": 4,
 "nbformat_minor": 2
}
