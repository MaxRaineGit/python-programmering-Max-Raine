{
 "cells": [
  {
   "cell_type": "markdown",
   "metadata": {},
   "source": [
    "# f-Strings (Formatted string literals)\n",
    "- literal starts with f or F.\n",
    "- variables or expressions can be inserted using {}\n",
    "- use = after expressions to print expressions and result (not only result)\n",
    "- quotes can be used inside expressions as long as they differ from the quote type of the f-String\n",
    "- for padding and alignment, use :**{padding character (default space)}{alignment}{width}**\n",
    "- Alignments: Left <, Center ^, Right >. Default alignment is left for string, right for numerics\n",
    "- Data type_ Add data type after åaddomg amd alignment eg: x:<20.2f\n",
    "- Data type format. Fixed-point notation (f), Exponent notation (e), Percentage(%) (Default precision is 6)\n",
    "- Use comma for thousands separation eg: (1000:,) or (1000:,.2f)"
   ]
  },
  {
   "cell_type": "code",
   "execution_count": 35,
   "metadata": {},
   "outputs": [
    {
     "name": "stdout",
     "output_type": "stream",
     "text": [
      "hello Max       !\n",
      "5 + 8 = 13\n",
      "Hej 'Max'.\n",
      "Hej \"Max\".\n",
      "Hej \"Max\".\n",
      "0.78\n",
      "7.800e-01\n",
      "78.000000%\n",
      "1,000,000.00\n"
     ]
    }
   ],
   "source": [
    "name = \"Max\" #input(\"Enter your name: \")\n",
    "mystring = f\"hello {name:10}!\"\n",
    "print(mystring)\n",
    "\n",
    "print(f\"{5 + 8 = }\")\n",
    "\n",
    "print(f\"Hej 'Max'.\")\n",
    "print(f'Hej \"Max\".')\n",
    "print(f\"Hej \\\"Max\\\".\")\n",
    "\n",
    "print(f\"{0.78:.2f}\")\n",
    "print(f\"{0.78:.3e}\")\n",
    "print(f\"{0.78:%}\")\n",
    "print(f\"{1000000:,.2f}\")"
   ]
  },
  {
   "cell_type": "code",
   "execution_count": 26,
   "metadata": {},
   "outputs": [
    {
     "name": "stdout",
     "output_type": "stream",
     "text": [
      "Firstname           Lastname\n",
      "MaxxxxxxxxxxxxxxxxxxRaine\n"
     ]
    }
   ],
   "source": [
    "firstname = \"Max\"\n",
    "lastname = \"Raine\"\n",
    "\n",
    "print(f\"{'Firstname':20}{'Lastname'}\")\n",
    "print(f\"{firstname:x<20}{lastname}\")"
   ]
  }
 ],
 "metadata": {
  "kernelspec": {
   "display_name": "Python-Max-Raine-HcuLBGuc",
   "language": "python",
   "name": "python3"
  },
  "language_info": {
   "codemirror_mode": {
    "name": "ipython",
    "version": 3
   },
   "file_extension": ".py",
   "mimetype": "text/x-python",
   "name": "python",
   "nbconvert_exporter": "python",
   "pygments_lexer": "ipython3",
   "version": "3.11.5"
  },
  "orig_nbformat": 4
 },
 "nbformat": 4,
 "nbformat_minor": 2
}
