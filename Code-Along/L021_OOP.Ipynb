{
 "cells": [
  {
   "cell_type": "markdown",
   "metadata": {},
   "source": [
    "# Object oriented programming (OOP)\n",
    "- A \"class\" is a blueprint that can be used to create objects.\n",
    "- An \"instance\" is the actual object containing data and methods."
   ]
  },
  {
   "cell_type": "code",
   "execution_count": 4,
   "metadata": {},
   "outputs": [
    {
     "name": "stdout",
     "output_type": "stream",
     "text": [
      "Max Rainé\n",
      "lucian uhtkam\n"
     ]
    }
   ],
   "source": [
    "students_a = {\"firstname\": \"Max\", \"lastname\": \"Rainé\", \"age\": 20, \"grade\": 3.4}\n",
    "students_b = {\"firstname\": \"lucian\", \"lastname\": \"utkham\", \"age\": 20, \"grade\": 4}\n",
    "\n",
    "students = [students_a, students_b]\n",
    "\n",
    "def set_grade(student, grade):\n",
    "    student['grade'] = grade\n",
    "\n",
    "def get_name(student):\n",
    "    return f'{student[\"firstname\"]} {student[\"lastname\"]}'\n",
    "\n",
    "\n",
    "for student in students:\n",
    "    set_grade(student, 3.8)\n",
    "    print(get_name(student))\n",
    "\n",
    "pass"
   ]
  },
  {
   "cell_type": "code",
   "execution_count": 18,
   "metadata": {},
   "outputs": [],
   "source": [
    "class Student:\n",
    "    def __init__(self, name, grade, age):\n",
    "        self.grade = grade\n",
    "        self.name = name\n",
    "        self.age = age\n",
    "\n",
    "    def set_grade(self, grade):\n",
    "        self.grade = grade"
   ]
  },
  {
   "cell_type": "code",
   "execution_count": 19,
   "metadata": {},
   "outputs": [
    {
     "name": "stdout",
     "output_type": "stream",
     "text": [
      "Max\n",
      "Lucian\n",
      "{'grade': 3.8, 'name': 'Max', 'age': 20}\n",
      "{'grade': 4.0, 'name': 'Lucian', 'age': 20}\n"
     ]
    }
   ],
   "source": [
    "students_a = Student(\"Max\", 3.8, 20)\n",
    "students_b = Student(\"Lucian\", 4.0, 20)\n",
    "\n",
    "\n",
    "print(students_a.name)\n",
    "print(students_b.name)\n",
    "print(students_a.__dict__)\n",
    "print(students_b.__dict__)"
   ]
  },
  {
   "cell_type": "code",
   "execution_count": 64,
   "metadata": {},
   "outputs": [],
   "source": [
    "class Cat:\n",
    "    def __init__(self, name, age, bestfriend=None):\n",
    "        self.name = name\n",
    "        self.age = age\n",
    "        self.bestfriend = bestfriend\n",
    "\n",
    "\n",
    "    def greet(self, cat=None):\n",
    "        if cat == None:\n",
    "            print(f\"Hello, i'm {self.name}, and i'm {self.age} years old\")\n",
    "        else:\n",
    "            if cat.age < self.age:\n",
    "             age_difference = self.age - cat.age\n",
    "             if age_difference == 1:\n",
    "                print(f\"Hi {cat.name}, my name is {self.name} and im {age_difference} year older than you!\")\n",
    "             else:\n",
    "                 print(f\"Hi {cat.name}, my name is {self.name} and im {age_difference} years older than you!\")   \n",
    "            elif cat.age > self.age:\n",
    "                age_difference = cat.age - self.age\n",
    "                if age_difference == 1:\n",
    "                    print(f\"Hi {cat.name}, my name is {self.name} and im {age_difference} year younger than you!\")\n",
    "                else:\n",
    "                    print(f\"Hi {cat.name}, my name is {self.name} and im {age_difference} years younger than you!\")\n",
    "            else:\n",
    "                print(f\"Hi {cat.name}, my name is {self.name} and we are the same age!\")\n",
    "\n",
    "    \n",
    "    def print_best_friend(self):\n",
    "        if self.bestfriend == None:\n",
    "            print(f\"my name is {self.name} and i don't have a best friend 😢\")\n",
    "        else:\n",
    "            print(f\"My name is {self.name} and my bestfriend is {self.bestfriend.name}\")\n",
    "            \n",
    "    "
   ]
  },
  {
   "cell_type": "code",
   "execution_count": 65,
   "metadata": {},
   "outputs": [
    {
     "name": "stdout",
     "output_type": "stream",
     "text": [
      "My name is Misse and my bestfriend is Mjau\n",
      "my name is Kisse and i don't have a best friend 😢\n",
      "My name is Mjau and my bestfriend is Misse\n",
      "my name is Texas and i don't have a best friend 😢\n",
      "Hello, i'm Misse, and i'm 3 years old\n",
      "Hello, i'm Kisse, and i'm 2 years old\n",
      "Hi Kisse, my name is Misse and im 1 year older than you!\n",
      "Hi Mjau, my name is Misse and im 2 years younger than you!\n",
      "Hi Texas, my name is Misse and we are the same age!\n"
     ]
    }
   ],
   "source": [
    "my_cat = Cat(\"Misse\", 3)\n",
    "my_other_cat = Cat(\"Kisse\", 2)\n",
    "my_third_cat = Cat(\"Mjau\", 5)\n",
    "my_forth_cat = Cat(\"Texas\", 3)\n",
    "\n",
    "my_cat.bestfriend = my_third_cat\n",
    "my_third_cat.bestfriend = my_cat\n",
    "\n",
    "cats = [my_cat, my_other_cat, my_third_cat, my_forth_cat]\n",
    "\n",
    "for cat in cats:\n",
    "    cat.print_best_friend()\n",
    "\n",
    "my_cat.greet()\n",
    "my_other_cat.greet()\n",
    "\n",
    "my_cat.greet(my_other_cat)\n",
    "my_cat.greet(my_third_cat)\n",
    "my_cat.greet(my_forth_cat)"
   ]
  }
 ],
 "metadata": {
  "kernelspec": {
   "display_name": "python-programmering-Max-Raine-Y7IIHyHe",
   "language": "python",
   "name": "python3"
  },
  "language_info": {
   "codemirror_mode": {
    "name": "ipython",
    "version": 3
   },
   "file_extension": ".py",
   "mimetype": "text/x-python",
   "name": "python",
   "nbconvert_exporter": "python",
   "pygments_lexer": "ipython3",
   "version": "3.11.5"
  },
  "orig_nbformat": 4
 },
 "nbformat": 4,
 "nbformat_minor": 2
}
