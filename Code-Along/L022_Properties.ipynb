{
 "cells": [
  {
   "cell_type": "markdown",
   "metadata": {},
   "source": [
    "# Properties (sing. Property)"
   ]
  },
  {
   "cell_type": "code",
   "execution_count": 27,
   "metadata": {},
   "outputs": [],
   "source": [
    "class Employee:\n",
    "     def __init__(self, name, salary):\n",
    "         self.name = name\n",
    "         self.salary = 0 if salary < 0 else salary\n",
    "\n",
    "     def set_salary(self, salary):\n",
    "         self.salary = 0 if salary < 0 else salary\n",
    "\n",
    "     def get_salary(self):\n",
    "         return self.salary\n",
    "  "
   ]
  },
  {
   "cell_type": "code",
   "execution_count": 30,
   "metadata": {},
   "outputs": [
    {
     "name": "stdout",
     "output_type": "stream",
     "text": [
      "51000\n",
      "0\n"
     ]
    }
   ],
   "source": [
    "employee = Employee(\"David\", 41000)\n",
    "employee2 = Employee(\"Felix\", -20000)\n",
    "\n",
    "employee.set_salary(51000)\n",
    "employee2.set_salary(-40000)\n",
    "\n",
    "print(employee.get_salary())\n",
    "print(employee2.get_salary())"
   ]
  }
 ],
 "metadata": {
  "kernelspec": {
   "display_name": "python-programmering-Max-Raine-Y7IIHyHe",
   "language": "python",
   "name": "python3"
  },
  "language_info": {
   "codemirror_mode": {
    "name": "ipython",
    "version": 3
   },
   "file_extension": ".py",
   "mimetype": "text/x-python",
   "name": "python",
   "nbconvert_exporter": "python",
   "pygments_lexer": "ipython3",
   "version": "3.11.5"
  },
  "orig_nbformat": 4
 },
 "nbformat": 4,
 "nbformat_minor": 2
}
