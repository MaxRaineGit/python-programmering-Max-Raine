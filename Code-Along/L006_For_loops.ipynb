{
 "cells": [
  {
   "cell_type": "markdown",
   "metadata": {},
   "source": [
    "# For Loops\n",
    "A for loop is used for iterationg over a sequence. (Example: a list, a string, a dictionary, or a range)\n",
    "\n",
    "This is less like the for keyword in other programming languages, and works more like an iterator method as found in object oriented programming languages. (ex. c#'s foreach-loop)"
   ]
  },
  {
   "cell_type": "code",
   "execution_count": 1,
   "metadata": {},
   "outputs": [
    {
     "name": "stdout",
     "output_type": "stream",
     "text": [
      "Max\n",
      "Lucian\n",
      "David\n",
      "Johanna\n",
      "Oliver\n"
     ]
    }
   ],
   "source": [
    "# Example: Iterating over the items in a list:\n",
    "names = [\"Max\", \"Lucian\", \"David\", \"Johanna\", \"Oliver\"]\n",
    "\n",
    "for name in names:\n",
    "    print(name)\n",
    "\n"
   ]
  },
  {
   "cell_type": "code",
   "execution_count": 7,
   "metadata": {},
   "outputs": [
    {
     "name": "stdout",
     "output_type": "stream",
     "text": [
      "Using only stop value (start defaults to zero):\n",
      "0\n",
      "1\n",
      "2\n",
      "\n",
      "Using start and stop values (start is inclusive, stop is exclusive):\n",
      "10\n",
      "11\n",
      "12\n",
      "\n",
      "Using start stop and step values (step defaults to 1):\n",
      "10\n",
      "12\n",
      "14\n",
      "16\n",
      "18\n",
      "\n",
      "Can also count reversed using a negative step value\n",
      "20\n",
      "17\n",
      "14\n",
      "11\n"
     ]
    }
   ],
   "source": [
    "# Example 2, iterating over a range\n",
    "\n",
    "print(\"Using only stop value (start defaults to zero):\")\n",
    "for i in range(3):\n",
    "    print(i)\n",
    "\n",
    "print(\"\\nUsing start and stop values (start is inclusive, stop is exclusive):\")\n",
    "for i in range(10, 13):\n",
    "    print(i)\n",
    "\n",
    "print(\"\\nUsing start stop and step values (step defaults to 1):\")\n",
    "for i in range(10, 20, 2):\n",
    "    print(i)\n",
    "\n",
    "print(\"\\nCan also count reversed using a negative step value\")\n",
    "for i in range(20, 10, -3):\n",
    "    print(i)"
   ]
  },
  {
   "cell_type": "markdown",
   "metadata": {},
   "source": [
    "## Like While loops, For loops can also use the following statments\n",
    "- continue\n",
    "- break\n",
    "- else"
   ]
  },
  {
   "cell_type": "markdown",
   "metadata": {},
   "source": [
    "## Nested loops\n",
    "A Loop within a loop (loopception)"
   ]
  },
  {
   "cell_type": "code",
   "execution_count": 17,
   "metadata": {},
   "outputs": [
    {
     "name": "stdout",
     "output_type": "stream",
     "text": [
      "00000\n",
      "11111\n",
      "22222\n"
     ]
    }
   ],
   "source": [
    "for y in range(3):\n",
    "    for x in range(5):\n",
    "        print(y, end=\"\")\n",
    "    print()"
   ]
  }
 ],
 "metadata": {
  "kernelspec": {
   "display_name": "Python-Max-Raine-HcuLBGuc",
   "language": "python",
   "name": "python3"
  },
  "language_info": {
   "codemirror_mode": {
    "name": "ipython",
    "version": 3
   },
   "file_extension": ".py",
   "mimetype": "text/x-python",
   "name": "python",
   "nbconvert_exporter": "python",
   "pygments_lexer": "ipython3",
   "version": "3.11.5"
  },
  "orig_nbformat": 4
 },
 "nbformat": 4,
 "nbformat_minor": 2
}
