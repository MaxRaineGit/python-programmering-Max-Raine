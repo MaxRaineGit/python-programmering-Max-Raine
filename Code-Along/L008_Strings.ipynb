{
 "cells": [
  {
   "cell_type": "markdown",
   "metadata": {},
   "source": [
    "# Strings\n",
    "- Data type used in Python for storing text.\n",
    "- Literal values with single or double quotes. 'Single', \"Double\""
   ]
  },
  {
   "cell_type": "markdown",
   "metadata": {},
   "source": [
    "## Concatenate\n",
    "In python we can concatenate two or more strings useing the + operator"
   ]
  },
  {
   "cell_type": "code",
   "execution_count": 1,
   "metadata": {},
   "outputs": [
    {
     "name": "stdout",
     "output_type": "stream",
     "text": [
      "HelloWorld\n",
      "Hello World\n"
     ]
    }
   ],
   "source": [
    "string1 = \"Hello\"\n",
    "string2 = \"World\"\n",
    "\n",
    "string3 = string1 + string2\n",
    "\n",
    "print(string3)\n",
    "\n",
    "string3 = string1 + \" \" + string2\n",
    "\n",
    "print(string3)"
   ]
  },
  {
   "cell_type": "markdown",
   "metadata": {},
   "source": [
    "# Multible strings\n",
    "Python allows string literals to span multible rows if started, and ended by \"\""
   ]
  },
  {
   "cell_type": "code",
   "execution_count": 6,
   "metadata": {},
   "outputs": [
    {
     "name": "stdout",
     "output_type": "stream",
     "text": [
      "This\n",
      "is\n",
      "an\n",
      "example\n",
      "\n",
      "This\n",
      "is\n",
      "another\n",
      "example!\n"
     ]
    }
   ],
   "source": [
    "text = \"\"\"This\n",
    "is\n",
    "an\n",
    "example\"\"\"\n",
    "\n",
    "if True:\n",
    "    text = \"\"\"This\n",
    "is\n",
    "another\n",
    "example!\"\"\"\n",
    "\n",
    "    print(text)"
   ]
  },
  {
   "cell_type": "markdown",
   "metadata": {},
   "source": [
    "## Indexing and slicing\n"
   ]
  },
  {
   "cell_type": "code",
   "execution_count": 9,
   "metadata": {},
   "outputs": [
    {
     "name": "stdout",
     "output_type": "stream",
     "text": [
      "name = 'Max'\n",
      "name[0] = 'M'\n",
      "name[-1] = 'x'\n",
      "name[:3] = 'Max'\n"
     ]
    }
   ],
   "source": [
    "name = \"Max\"\n",
    "print(f\"{name = }\")\n",
    "print(f\"{name[0] = }\")\n",
    "print(f\"{name[-1] = }\")\n",
    "print(f\"{name[:3] = }\")"
   ]
  },
  {
   "cell_type": "markdown",
   "metadata": {},
   "source": [
    "## Looping through a string"
   ]
  },
  {
   "cell_type": "code",
   "execution_count": 10,
   "metadata": {},
   "outputs": [
    {
     "name": "stdout",
     "output_type": "stream",
     "text": [
      "M\n",
      "a\n",
      "x\n"
     ]
    }
   ],
   "source": [
    "name = \"Max\"\n",
    "\n",
    "for char in name:\n",
    "    print(char)"
   ]
  },
  {
   "cell_type": "markdown",
   "metadata": {},
   "source": [
    "## Membership operators with string"
   ]
  },
  {
   "cell_type": "code",
   "execution_count": 11,
   "metadata": {},
   "outputs": [
    {
     "name": "stdout",
     "output_type": "stream",
     "text": [
      "'drik' in name = False\n",
      "name in 'Max Raine' = True\n",
      "'efg' in 'abcdefg' = True\n"
     ]
    }
   ],
   "source": [
    "name = \"Max\"\n",
    "\n",
    "print(f\"{'drik' in name = }\")\n",
    "print(f\"{name in 'Max Raine' = }\")\n",
    "print(f\"{'efg' in 'abcdefg' = }\")"
   ]
  },
  {
   "cell_type": "markdown",
   "metadata": {},
   "source": [
    "## Escape characters\n",
    "\n",
    "* \\\" Double quote\n",
    "* \\' Single quote\n",
    "* \\\\\\ Backslash\n",
    "* \\n New Line\n",
    "* \\t Tab"
   ]
  },
  {
   "cell_type": "markdown",
   "metadata": {},
   "source": [
    "## String methods"
   ]
  },
  {
   "cell_type": "code",
   "execution_count": 30,
   "metadata": {},
   "outputs": [
    {
     "name": "stdout",
     "output_type": "stream",
     "text": [
      "MAX\n",
      "\"Hello World\".lower() = 'hello world'\n",
      "\"Hello World\".upper() = 'HELLO WORLD'\n",
      "\"Hello World\".title() = 'Hello World'\n",
      "\"Hello World\".capitalize() = 'Hello world'\n",
      "\"Hello World\".startswith(\"Hello\") = True\n",
      "\"Hello World\".endswith(\"Hello\") = False\n",
      "\n",
      "Strip whitespace from start/end of string:\n",
      "\"              Hello world       \".strip() = 'Hello world'\n",
      "\"              Hello world       \".lstrip() = 'Hello world       '\n",
      "\"              Hello world       \".rstrip() = '              Hello world'\n",
      "\n",
      "Join multible strings together:\n",
      "Max, Johanna, Felix\n",
      "\n",
      "Split string into multible (list of) strings:\n",
      "\"This is another example\".split() = ['This', 'is', 'another', 'example']\n",
      "\"This is another example\".split(\"a\") = ['This is ', 'nother ex', 'mple']\n",
      "\"Apple, Orange, Pear, Melon\".split(\", \") = ['Apple', 'Orange', 'Pear', 'Melon']\n",
      "\n",
      "Replace part of string\n",
      "\"This is another example\".replace(\"another\", \"just an\") = 'This is just an example'\n",
      "\n",
      "Find index of substring\n",
      "\"This is another example\".find(\"another\") = 8\n"
     ]
    }
   ],
   "source": [
    "name = \"Max\"\n",
    "upper_name = name.upper()\n",
    "print(upper_name)\n",
    "\n",
    "# Upper- % Lower case\n",
    "print(f'{\"Hello World\".lower() = }')\n",
    "print(f'{\"Hello World\".upper() = }')\n",
    "print(f'{\"Hello World\".title() = }')\n",
    "print(f'{\"Hello World\".capitalize() = }')\n",
    "\n",
    "# Check if string Starts or ends with substring\n",
    "print(f'{\"Hello World\".startswith(\"Hello\") = }')\n",
    "print(f'{\"Hello World\".endswith(\"Hello\") = }')\n",
    "\n",
    "# Strip is often used when getting input from users.\n",
    "print(\"\\nStrip whitespace from start/end of string:\")\n",
    "print(f'{\"              Hello world       \".strip() = }')\n",
    "print(f'{\"              Hello world       \".lstrip() = }')\n",
    "print(f'{\"              Hello world       \".rstrip() = }')\n",
    "\n",
    "\n",
    "print(\"\\nJoin multible strings together:\")\n",
    "print(f'{\", \".join([\"Max\", \"Johanna\", \"Felix\"])}')\n",
    "\n",
    "print(\"\\nSplit string into multible (list of) strings:\")\n",
    "print(f'{\"This is another example\".split() = }')\n",
    "print(f'{\"This is another example\".split(\"a\") = }')\n",
    "print(f'{\"Apple, Orange, Pear, Melon\".split(\", \") = }')\n",
    "\n",
    "print(\"\\nReplace part of string\")\n",
    "print(f'{\"This is another example\".replace(\"another\", \"just an\") = }')\n",
    "\n",
    "print(\"\\nFind index of substring\")\n",
    "print(f'{\"This is another example\".find(\"another\") = }')\n"
   ]
  },
  {
   "cell_type": "code",
   "execution_count": 24,
   "metadata": {},
   "outputs": [
    {
     "name": "stdout",
     "output_type": "stream",
     "text": [
      "at\n",
      "the\n",
      "zoo\n"
     ]
    }
   ],
   "source": [
    "text = input(\"Enter some text: \")\n",
    "\n",
    "words = text.split()\n",
    "\n",
    "for word in words:\n",
    "    print(word)"
   ]
  },
  {
   "cell_type": "code",
   "execution_count": 37,
   "metadata": {},
   "outputs": [
    {
     "name": "stdout",
     "output_type": "stream",
     "text": [
      "Max Raine\n"
     ]
    }
   ],
   "source": [
    "data = \"Max Raine, 20\"\n",
    "\n",
    "index = data.find(\",\")\n",
    "name = data[:index]\n",
    "print(data[:index])"
   ]
  }
 ],
 "metadata": {
  "kernelspec": {
   "display_name": "Python-Max-Raine-HcuLBGuc",
   "language": "python",
   "name": "python3"
  },
  "language_info": {
   "codemirror_mode": {
    "name": "ipython",
    "version": 3
   },
   "file_extension": ".py",
   "mimetype": "text/x-python",
   "name": "python",
   "nbconvert_exporter": "python",
   "pygments_lexer": "ipython3",
   "version": "3.11.5"
  },
  "orig_nbformat": 4
 },
 "nbformat": 4,
 "nbformat_minor": 2
}
