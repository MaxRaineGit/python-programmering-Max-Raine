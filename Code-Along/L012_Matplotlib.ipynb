{
 "cells": [
  {
   "cell_type": "markdown",
   "metadata": {},
   "source": [
    "# Matplotlib"
   ]
  },
  {
   "cell_type": "code",
   "execution_count": 1,
   "metadata": {},
   "outputs": [
    {
     "ename": "TypeError",
     "evalue": "unsupported operand type(s) for ** or pow(): 'types.GenericAlias' and 'int'",
     "output_type": "error",
     "traceback": [
      "\u001b[1;31m---------------------------------------------------------------------------\u001b[0m",
      "\u001b[1;31mTypeError\u001b[0m                                 Traceback (most recent call last)",
      "\u001b[1;32mc:\\Users\\maxra\\Documents\\Github\\python-programmering-Max-Raine\\Code-Along\\L012_Matplotlib.ipynb Cell 2\u001b[0m line \u001b[0;36m4\n\u001b[0;32m      <a href='vscode-notebook-cell:/c%3A/Users/maxra/Documents/Github/python-programmering-Max-Raine/Code-Along/L012_Matplotlib.ipynb#W1sZmlsZQ%3D%3D?line=0'>1</a>\u001b[0m \u001b[39mimport\u001b[39;00m \u001b[39mmatplotlib\u001b[39;00m\u001b[39m.\u001b[39;00m\u001b[39mpyplot\u001b[39;00m \u001b[39mas\u001b[39;00m \u001b[39mplt\u001b[39;00m\n\u001b[0;32m      <a href='vscode-notebook-cell:/c%3A/Users/maxra/Documents/Github/python-programmering-Max-Raine/Code-Along/L012_Matplotlib.ipynb#W1sZmlsZQ%3D%3D?line=2'>3</a>\u001b[0m x \u001b[39m=\u001b[39m \u001b[39mlist\u001b[39m[\u001b[39mrange\u001b[39m(\u001b[39m-\u001b[39m\u001b[39m10\u001b[39m, \u001b[39m11\u001b[39m)]\n\u001b[1;32m----> <a href='vscode-notebook-cell:/c%3A/Users/maxra/Documents/Github/python-programmering-Max-Raine/Code-Along/L012_Matplotlib.ipynb#W1sZmlsZQ%3D%3D?line=3'>4</a>\u001b[0m y \u001b[39m=\u001b[39m [value\u001b[39m*\u001b[39;49m\u001b[39m*\u001b[39;49m\u001b[39m2\u001b[39;49m \u001b[39mfor\u001b[39;49;00m value \u001b[39min\u001b[39;49;00m x]\n\u001b[0;32m      <a href='vscode-notebook-cell:/c%3A/Users/maxra/Documents/Github/python-programmering-Max-Raine/Code-Along/L012_Matplotlib.ipynb#W1sZmlsZQ%3D%3D?line=4'>5</a>\u001b[0m y2 \u001b[39m=\u001b[39m [value\u001b[39m*\u001b[39m\u001b[39m*\u001b[39m\u001b[39m3\u001b[39m \u001b[39mfor\u001b[39;00m value \u001b[39min\u001b[39;00m x]\n\u001b[0;32m      <a href='vscode-notebook-cell:/c%3A/Users/maxra/Documents/Github/python-programmering-Max-Raine/Code-Along/L012_Matplotlib.ipynb#W1sZmlsZQ%3D%3D?line=6'>7</a>\u001b[0m \u001b[39mprint\u001b[39m(\u001b[39mf\u001b[39m\u001b[39m\"\u001b[39m\u001b[39m{\u001b[39;00mx\u001b[39m \u001b[39m\u001b[39m=}\u001b[39;00m\u001b[39m\"\u001b[39m)\n",
      "\u001b[1;32mc:\\Users\\maxra\\Documents\\Github\\python-programmering-Max-Raine\\Code-Along\\L012_Matplotlib.ipynb Cell 2\u001b[0m line \u001b[0;36m4\n\u001b[0;32m      <a href='vscode-notebook-cell:/c%3A/Users/maxra/Documents/Github/python-programmering-Max-Raine/Code-Along/L012_Matplotlib.ipynb#W1sZmlsZQ%3D%3D?line=0'>1</a>\u001b[0m \u001b[39mimport\u001b[39;00m \u001b[39mmatplotlib\u001b[39;00m\u001b[39m.\u001b[39;00m\u001b[39mpyplot\u001b[39;00m \u001b[39mas\u001b[39;00m \u001b[39mplt\u001b[39;00m\n\u001b[0;32m      <a href='vscode-notebook-cell:/c%3A/Users/maxra/Documents/Github/python-programmering-Max-Raine/Code-Along/L012_Matplotlib.ipynb#W1sZmlsZQ%3D%3D?line=2'>3</a>\u001b[0m x \u001b[39m=\u001b[39m \u001b[39mlist\u001b[39m[\u001b[39mrange\u001b[39m(\u001b[39m-\u001b[39m\u001b[39m10\u001b[39m, \u001b[39m11\u001b[39m)]\n\u001b[1;32m----> <a href='vscode-notebook-cell:/c%3A/Users/maxra/Documents/Github/python-programmering-Max-Raine/Code-Along/L012_Matplotlib.ipynb#W1sZmlsZQ%3D%3D?line=3'>4</a>\u001b[0m y \u001b[39m=\u001b[39m [value\u001b[39m*\u001b[39;49m\u001b[39m*\u001b[39;49m\u001b[39m2\u001b[39;49m \u001b[39mfor\u001b[39;00m value \u001b[39min\u001b[39;00m x]\n\u001b[0;32m      <a href='vscode-notebook-cell:/c%3A/Users/maxra/Documents/Github/python-programmering-Max-Raine/Code-Along/L012_Matplotlib.ipynb#W1sZmlsZQ%3D%3D?line=4'>5</a>\u001b[0m y2 \u001b[39m=\u001b[39m [value\u001b[39m*\u001b[39m\u001b[39m*\u001b[39m\u001b[39m3\u001b[39m \u001b[39mfor\u001b[39;00m value \u001b[39min\u001b[39;00m x]\n\u001b[0;32m      <a href='vscode-notebook-cell:/c%3A/Users/maxra/Documents/Github/python-programmering-Max-Raine/Code-Along/L012_Matplotlib.ipynb#W1sZmlsZQ%3D%3D?line=6'>7</a>\u001b[0m \u001b[39mprint\u001b[39m(\u001b[39mf\u001b[39m\u001b[39m\"\u001b[39m\u001b[39m{\u001b[39;00mx\u001b[39m \u001b[39m\u001b[39m=}\u001b[39;00m\u001b[39m\"\u001b[39m)\n",
      "\u001b[1;31mTypeError\u001b[0m: unsupported operand type(s) for ** or pow(): 'types.GenericAlias' and 'int'"
     ]
    }
   ],
   "source": [
    "import matplotlib.pyplot as plt\n",
    "\n",
    "x = list[range(-10, 11)]\n",
    "y = [value**2 for value in x]\n",
    "y2 = [value**3 for value in x]\n",
    "\n",
    "print(f\"{x =}\")\n",
    "print(f\"{y =}\")\n",
    "\n",
    "plt.plot(x, y, label=\"x**2\")\n",
    "plt.plot(x, y2, label =\"x**3\")\n",
    "plt.legend()"
   ]
  },
  {
   "cell_type": "code",
   "execution_count": 2,
   "metadata": {},
   "outputs": [
    {
     "ename": "NameError",
     "evalue": "name 'plt' is not defined",
     "output_type": "error",
     "traceback": [
      "\u001b[1;31m---------------------------------------------------------------------------\u001b[0m",
      "\u001b[1;31mNameError\u001b[0m                                 Traceback (most recent call last)",
      "\u001b[1;32mc:\\Users\\maxra\\Documents\\Github\\python-programmering-Max-Raine\\Code-Along\\L012_Matplotlib.ipynb Cell 3\u001b[0m line \u001b[0;36m4\n\u001b[0;32m      <a href='vscode-notebook-cell:/c%3A/Users/maxra/Documents/Github/python-programmering-Max-Raine/Code-Along/L012_Matplotlib.ipynb#W2sZmlsZQ%3D%3D?line=0'>1</a>\u001b[0m x \u001b[39m=\u001b[39m [\u001b[39m0\u001b[39m, \u001b[39m-\u001b[39m\u001b[39m100\u001b[39m, \u001b[39m25\u001b[39m, \u001b[39m65\u001b[39m, \u001b[39m-\u001b[39m\u001b[39m323\u001b[39m]\n\u001b[0;32m      <a href='vscode-notebook-cell:/c%3A/Users/maxra/Documents/Github/python-programmering-Max-Raine/Code-Along/L012_Matplotlib.ipynb#W2sZmlsZQ%3D%3D?line=1'>2</a>\u001b[0m y \u001b[39m=\u001b[39m [\u001b[39m0\u001b[39m, \u001b[39m3\u001b[39m, \u001b[39m7\u001b[39m, \u001b[39m3\u001b[39m, \u001b[39m9\u001b[39m]\n\u001b[1;32m----> <a href='vscode-notebook-cell:/c%3A/Users/maxra/Documents/Github/python-programmering-Max-Raine/Code-Along/L012_Matplotlib.ipynb#W2sZmlsZQ%3D%3D?line=3'>4</a>\u001b[0m plt\u001b[39m.\u001b[39mtitle(\u001b[39m\"\u001b[39m\u001b[39mMy graph\u001b[39m\u001b[39m\"\u001b[39m)\n\u001b[0;32m      <a href='vscode-notebook-cell:/c%3A/Users/maxra/Documents/Github/python-programmering-Max-Raine/Code-Along/L012_Matplotlib.ipynb#W2sZmlsZQ%3D%3D?line=4'>5</a>\u001b[0m plt\u001b[39m.\u001b[39mxlabel(\u001b[39m\"\u001b[39m\u001b[39mX Values\u001b[39m\u001b[39m\"\u001b[39m)\n\u001b[0;32m      <a href='vscode-notebook-cell:/c%3A/Users/maxra/Documents/Github/python-programmering-Max-Raine/Code-Along/L012_Matplotlib.ipynb#W2sZmlsZQ%3D%3D?line=5'>6</a>\u001b[0m plt\u001b[39m.\u001b[39mylabel(\u001b[39m\"\u001b[39m\u001b[39mY Values\u001b[39m\u001b[39m\"\u001b[39m)\n",
      "\u001b[1;31mNameError\u001b[0m: name 'plt' is not defined"
     ]
    }
   ],
   "source": [
    "x = [0, -100, 25, 65, -323]\n",
    "y = [0, 3, 7, 3, 9]\n",
    "\n",
    "plt.title(\"My graph\")\n",
    "plt.xlabel(\"X Values\")\n",
    "plt.ylabel(\"Y Values\")\n",
    "plt.plot(x, y)"
   ]
  },
  {
   "cell_type": "markdown",
   "metadata": {},
   "source": [
    "# Bars"
   ]
  },
  {
   "cell_type": "code",
   "execution_count": 7,
   "metadata": {},
   "outputs": [
    {
     "ename": "NameError",
     "evalue": "name 'plt' is not defined",
     "output_type": "error",
     "traceback": [
      "\u001b[1;31m---------------------------------------------------------------------------\u001b[0m",
      "\u001b[1;31mNameError\u001b[0m                                 Traceback (most recent call last)",
      "\u001b[1;32mc:\\Users\\maxra\\Documents\\Github\\python-programmering-Max-Raine\\Code-Along\\L012_Matplotlib.ipynb Cell 5\u001b[0m line \u001b[0;36m4\n\u001b[0;32m      <a href='vscode-notebook-cell:/c%3A/Users/maxra/Documents/Github/python-programmering-Max-Raine/Code-Along/L012_Matplotlib.ipynb#W6sZmlsZQ%3D%3D?line=0'>1</a>\u001b[0m Labels \u001b[39m=\u001b[39m [\u001b[39m\"\u001b[39m\u001b[39mMale\u001b[39m\u001b[39m\"\u001b[39m, \u001b[39m\"\u001b[39m\u001b[39mFemale\u001b[39m\u001b[39m\"\u001b[39m]\n\u001b[0;32m      <a href='vscode-notebook-cell:/c%3A/Users/maxra/Documents/Github/python-programmering-Max-Raine/Code-Along/L012_Matplotlib.ipynb#W6sZmlsZQ%3D%3D?line=1'>2</a>\u001b[0m values \u001b[39m=\u001b[39m [\u001b[39m12\u001b[39m, \u001b[39m23\u001b[39m]\n\u001b[1;32m----> <a href='vscode-notebook-cell:/c%3A/Users/maxra/Documents/Github/python-programmering-Max-Raine/Code-Along/L012_Matplotlib.ipynb#W6sZmlsZQ%3D%3D?line=3'>4</a>\u001b[0m plt\u001b[39m.\u001b[39mbar(labels, values)\n",
      "\u001b[1;31mNameError\u001b[0m: name 'plt' is not defined"
     ]
    }
   ],
   "source": [
    "Labels = [\"Male\", \"Female\"]\n",
    "values = [12, 23]\n",
    "\n",
    "plt.bar(labels, values)"
   ]
  },
  {
   "cell_type": "markdown",
   "metadata": {},
   "source": [
    "# Pie Charts"
   ]
  },
  {
   "cell_type": "code",
   "execution_count": 8,
   "metadata": {},
   "outputs": [
    {
     "ename": "NameError",
     "evalue": "name 'plt' is not defined",
     "output_type": "error",
     "traceback": [
      "\u001b[1;31m---------------------------------------------------------------------------\u001b[0m",
      "\u001b[1;31mNameError\u001b[0m                                 Traceback (most recent call last)",
      "\u001b[1;32mc:\\Users\\maxra\\Documents\\Github\\python-programmering-Max-Raine\\Code-Along\\L012_Matplotlib.ipynb Cell 7\u001b[0m line \u001b[0;36m1\n\u001b[1;32m----> <a href='vscode-notebook-cell:/c%3A/Users/maxra/Documents/Github/python-programmering-Max-Raine/Code-Along/L012_Matplotlib.ipynb#X11sZmlsZQ%3D%3D?line=0'>1</a>\u001b[0m plt\u001b[39m.\u001b[39mpie(values, Labels\u001b[39m-\u001b[39mLabels)\n",
      "\u001b[1;31mNameError\u001b[0m: name 'plt' is not defined"
     ]
    }
   ],
   "source": [
    "plt.pie(values, Labels-Labels)"
   ]
  },
  {
   "cell_type": "markdown",
   "metadata": {},
   "source": [
    "## Subplots"
   ]
  },
  {
   "cell_type": "code",
   "execution_count": 9,
   "metadata": {},
   "outputs": [
    {
     "ename": "TypeError",
     "evalue": "unsupported operand type(s) for ** or pow(): 'types.GenericAlias' and 'int'",
     "output_type": "error",
     "traceback": [
      "\u001b[1;31m---------------------------------------------------------------------------\u001b[0m",
      "\u001b[1;31mTypeError\u001b[0m                                 Traceback (most recent call last)",
      "\u001b[1;32mc:\\Users\\maxra\\Documents\\Github\\python-programmering-Max-Raine\\Code-Along\\L012_Matplotlib.ipynb Cell 9\u001b[0m line \u001b[0;36m2\n\u001b[0;32m      <a href='vscode-notebook-cell:/c%3A/Users/maxra/Documents/Github/python-programmering-Max-Raine/Code-Along/L012_Matplotlib.ipynb#X13sZmlsZQ%3D%3D?line=0'>1</a>\u001b[0m x \u001b[39m=\u001b[39m \u001b[39mlist\u001b[39m[\u001b[39mrange\u001b[39m(\u001b[39m-\u001b[39m\u001b[39m10\u001b[39m, \u001b[39m11\u001b[39m)]\n\u001b[1;32m----> <a href='vscode-notebook-cell:/c%3A/Users/maxra/Documents/Github/python-programmering-Max-Raine/Code-Along/L012_Matplotlib.ipynb#X13sZmlsZQ%3D%3D?line=1'>2</a>\u001b[0m y \u001b[39m=\u001b[39m [value\u001b[39m*\u001b[39;49m\u001b[39m*\u001b[39;49m\u001b[39m2\u001b[39;49m \u001b[39mfor\u001b[39;49;00m value \u001b[39min\u001b[39;49;00m x]\n\u001b[0;32m      <a href='vscode-notebook-cell:/c%3A/Users/maxra/Documents/Github/python-programmering-Max-Raine/Code-Along/L012_Matplotlib.ipynb#X13sZmlsZQ%3D%3D?line=2'>3</a>\u001b[0m y2 \u001b[39m=\u001b[39m [value\u001b[39m*\u001b[39m\u001b[39m*\u001b[39m\u001b[39m3\u001b[39m \u001b[39mfor\u001b[39;00m value \u001b[39min\u001b[39;00m x]\n\u001b[0;32m      <a href='vscode-notebook-cell:/c%3A/Users/maxra/Documents/Github/python-programmering-Max-Raine/Code-Along/L012_Matplotlib.ipynb#X13sZmlsZQ%3D%3D?line=4'>5</a>\u001b[0m fig, axs \u001b[39m=\u001b[39m plt\u001b[39m.\u001b[39msubplots(\u001b[39m1\u001b[39m, \u001b[39m2\u001b[39m)\n",
      "\u001b[1;32mc:\\Users\\maxra\\Documents\\Github\\python-programmering-Max-Raine\\Code-Along\\L012_Matplotlib.ipynb Cell 9\u001b[0m line \u001b[0;36m2\n\u001b[0;32m      <a href='vscode-notebook-cell:/c%3A/Users/maxra/Documents/Github/python-programmering-Max-Raine/Code-Along/L012_Matplotlib.ipynb#X13sZmlsZQ%3D%3D?line=0'>1</a>\u001b[0m x \u001b[39m=\u001b[39m \u001b[39mlist\u001b[39m[\u001b[39mrange\u001b[39m(\u001b[39m-\u001b[39m\u001b[39m10\u001b[39m, \u001b[39m11\u001b[39m)]\n\u001b[1;32m----> <a href='vscode-notebook-cell:/c%3A/Users/maxra/Documents/Github/python-programmering-Max-Raine/Code-Along/L012_Matplotlib.ipynb#X13sZmlsZQ%3D%3D?line=1'>2</a>\u001b[0m y \u001b[39m=\u001b[39m [value\u001b[39m*\u001b[39;49m\u001b[39m*\u001b[39;49m\u001b[39m2\u001b[39;49m \u001b[39mfor\u001b[39;00m value \u001b[39min\u001b[39;00m x]\n\u001b[0;32m      <a href='vscode-notebook-cell:/c%3A/Users/maxra/Documents/Github/python-programmering-Max-Raine/Code-Along/L012_Matplotlib.ipynb#X13sZmlsZQ%3D%3D?line=2'>3</a>\u001b[0m y2 \u001b[39m=\u001b[39m [value\u001b[39m*\u001b[39m\u001b[39m*\u001b[39m\u001b[39m3\u001b[39m \u001b[39mfor\u001b[39;00m value \u001b[39min\u001b[39;00m x]\n\u001b[0;32m      <a href='vscode-notebook-cell:/c%3A/Users/maxra/Documents/Github/python-programmering-Max-Raine/Code-Along/L012_Matplotlib.ipynb#X13sZmlsZQ%3D%3D?line=4'>5</a>\u001b[0m fig, axs \u001b[39m=\u001b[39m plt\u001b[39m.\u001b[39msubplots(\u001b[39m1\u001b[39m, \u001b[39m2\u001b[39m)\n",
      "\u001b[1;31mTypeError\u001b[0m: unsupported operand type(s) for ** or pow(): 'types.GenericAlias' and 'int'"
     ]
    }
   ],
   "source": [
    "x = list[range(-10, 11)]\n",
    "y = [value**2 for value in x]\n",
    "y2 = [value**3 for value in x]\n",
    "\n",
    "fig, axs = plt.subplots(1, 2)\n",
    "axs[0].plot(x, y)\n",
    "axs[1].plot(x, y2)"
   ]
  }
 ],
 "metadata": {
  "kernelspec": {
   "display_name": "Python-Max-Raine-HcuLBGuc",
   "language": "python",
   "name": "python3"
  },
  "language_info": {
   "codemirror_mode": {
    "name": "ipython",
    "version": 3
   },
   "file_extension": ".py",
   "mimetype": "text/x-python",
   "name": "python",
   "nbconvert_exporter": "python",
   "pygments_lexer": "ipython3",
   "version": "3.11.5"
  },
  "orig_nbformat": 4
 },
 "nbformat": 4,
 "nbformat_minor": 2
}
