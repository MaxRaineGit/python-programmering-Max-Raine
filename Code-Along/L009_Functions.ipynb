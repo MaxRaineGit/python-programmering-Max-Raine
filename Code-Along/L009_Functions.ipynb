{
 "cells": [
  {
   "cell_type": "markdown",
   "metadata": {},
   "source": [
    "# Functions\n",
    "- A function is a block of code which only runs when itt is called.\n",
    "- In Python a function is defined using the **def** keyword.\n",
    "- Definition must come before the call.\n",
    "- To call a function, use the functionname followed py parenthesis.\n",
    "- You can pass data, known as arguments into a function.\n",
    "- The numver of arguments when calling must normally math number of parameters of definition."
   ]
  },
  {
   "cell_type": "code",
   "execution_count": 11,
   "metadata": {},
   "outputs": [
    {
     "name": "stdout",
     "output_type": "stream",
     "text": [
      "Hello Max!\n",
      "Hello Lucian!\n",
      "Hello Felix!\n"
     ]
    }
   ],
   "source": [
    "def greet(name):\n",
    "    print(\"Hello \" + name + \"!\")\n",
    "\n",
    "def greet_people(people):\n",
    "    for person in people:\n",
    "        greet(person)\n",
    "\n",
    "people = [\"Max\", \"Lucian\", \"Felix\"]\n",
    "greet_people(people)\n",
    "\n"
   ]
  }
 ],
 "metadata": {
  "kernelspec": {
   "display_name": "Python-Max-Raine-HcuLBGuc",
   "language": "python",
   "name": "python3"
  },
  "language_info": {
   "codemirror_mode": {
    "name": "ipython",
    "version": 3
   },
   "file_extension": ".py",
   "mimetype": "text/x-python",
   "name": "python",
   "nbconvert_exporter": "python",
   "pygments_lexer": "ipython3",
   "version": "3.11.5"
  },
  "orig_nbformat": 4
 },
 "nbformat": 4,
 "nbformat_minor": 2
}
