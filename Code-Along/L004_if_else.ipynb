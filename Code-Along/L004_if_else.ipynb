{
 "cells": [
  {
   "cell_type": "markdown",
   "metadata": {},
   "source": [
    "# if statements\n",
    "- **if** - Essential part of if-statement\n",
    "- **elif** - Zero, One, or More elif\n",
    "- **else** - Zero, One\n"
   ]
  },
  {
   "cell_type": "code",
   "execution_count": 11,
   "metadata": {},
   "outputs": [
    {
     "name": "stdout",
     "output_type": "stream",
     "text": [
      "Yes!\n",
      "True!\n"
     ]
    }
   ],
   "source": [
    "x= 5\n",
    "name = \"Svante\"\n",
    "\n",
    "if x < 10 or name == \"Max\":\n",
    "    print(\"Yes!\")\n",
    "    print(\"True!\")\n",
    "elif name == \"Svante\":\n",
    "    print(\"Hello Svante!\")\n",
    "elif name == \"Felix\":\n",
    "    print(\"Hello Felix!\")\n",
    "elif name == \"David\":\n",
    "    print(\"Hello David!\")\n",
    "else:\n",
    "    print(\"No!\")\n",
    "    print(\"False!\")\n",
    "\n"
   ]
  },
  {
   "cell_type": "markdown",
   "metadata": {},
   "source": [
    "# On line if statement\n",
    "- When the if statment is followed by only one statment."
   ]
  },
  {
   "cell_type": "code",
   "execution_count": 12,
   "metadata": {},
   "outputs": [
    {
     "name": "stdout",
     "output_type": "stream",
     "text": [
      "Yes!\n"
     ]
    }
   ],
   "source": [
    "name = \"Max\"\n",
    "\n",
    "if x < 10 or name == \"Max\": print(\"Yes!\")\n",
    "\n"
   ]
  },
  {
   "cell_type": "markdown",
   "metadata": {},
   "source": [
    "# Ternary Operators\n",
    "- A special operator that takes three operands and returns one of thoes choices depending on if the middle expression to evaluate to true or false. (*TrueValue* if *expression* else *FalseValue*)"
   ]
  },
  {
   "cell_type": "code",
   "execution_count": 16,
   "metadata": {},
   "outputs": [
    {
     "name": "stdout",
     "output_type": "stream",
     "text": [
      "Max Raine\n",
      "Please wait 4 seconds\n"
     ]
    }
   ],
   "source": [
    "name = \"Max\"\n",
    "lastname = \"Raine\" if name == \"Max\" else \"???\"\n",
    "\n",
    "print(f\"{name} {lastname}\")\n",
    "\n",
    "seconds = 4\n",
    "print(f\"Please wait {seconds} second{'s' if seconds != 1 else ''}\")"
   ]
  }
 ],
 "metadata": {
  "kernelspec": {
   "display_name": "Python-Max-Raine-HcuLBGuc",
   "language": "python",
   "name": "python3"
  },
  "language_info": {
   "codemirror_mode": {
    "name": "ipython",
    "version": 3
   },
   "file_extension": ".py",
   "mimetype": "text/x-python",
   "name": "python",
   "nbconvert_exporter": "python",
   "pygments_lexer": "ipython3",
   "version": "3.11.5"
  },
  "orig_nbformat": 4
 },
 "nbformat": 4,
 "nbformat_minor": 2
}
