{
 "cells": [
  {
   "cell_type": "markdown",
   "metadata": {},
   "source": [
    "# Tuples\n",
    "- Touples are used to store multible items in a single variable.\n",
    "- Tuple items are ordered, unchangable, and allows duplicate values.\n",
    "- Tuples allows different data types, and a mix of data types.\n",
    "- Tuple items are indexed, the first item has index [0], the second item has index [1], and so on.\n",
    "- Tuples are written with round brackets. Ex. (), (1,), (1, 2), (1, 2, 3,) etc"
   ]
  },
  {
   "cell_type": "code",
   "execution_count": 4,
   "metadata": {},
   "outputs": [
    {
     "name": "stdout",
     "output_type": "stream",
     "text": [
      "Max\n",
      "('Lucian', 20, 'Mizu')\n"
     ]
    }
   ],
   "source": [
    "# Creates empty tuple\n",
    "empty_tuple = ()\n",
    "\n",
    "# Creates tuple with one item\n",
    "single_item_tuple = (1, )\n",
    "\n",
    "# Create tuple with items\n",
    "my_tuple = (\"Max\", 20, \"Mizu\")\n",
    "\n",
    "# Tuples can be indexed (and sliced)\n",
    "print(f\"{my_tuple[0]}\")\n",
    "\n",
    "# But individual item can not be altered\n",
    "\n",
    "# The workaround to alter items is to conver to list and back\n",
    "my_list = list(my_tuple)\n",
    "my_list[0] = \"Lucian\"\n",
    "my_tuple = tuple(my_list)\n",
    "\n",
    "print(f\"{my_tuple}\")\n",
    "\n",
    "point = (5.3, 4.7)"
   ]
  },
  {
   "cell_type": "markdown",
   "metadata": {},
   "source": [
    "# Unpacking a tuple\n",
    "- When we create a tuple, we normally asign values to it. This is called \"Packing\" a tuple.\n",
    "- We are also allowed to extract the values back into variables. This is called \"unpacking\"."
   ]
  },
  {
   "cell_type": "code",
   "execution_count": 2,
   "metadata": {},
   "outputs": [
    {
     "name": "stdout",
     "output_type": "stream",
     "text": [
      "name = 'Lucian'\n",
      "age = 20\n",
      "nickname = 'Flum'\n"
     ]
    }
   ],
   "source": [
    "name, age, nickname = my_tuple\n",
    "print(f\"{name = }\")\n",
    "print(f\"{age = }\")\n",
    "print(f\"{nickname = }\")"
   ]
  },
  {
   "cell_type": "markdown",
   "metadata": {},
   "source": [
    "# Looping through a tuple"
   ]
  },
  {
   "cell_type": "code",
   "execution_count": 5,
   "metadata": {},
   "outputs": [
    {
     "name": "stdout",
     "output_type": "stream",
     "text": [
      "Lucian\n",
      "20\n",
      "Mizu\n"
     ]
    }
   ],
   "source": [
    "for items in my_tuple:\n",
    "    print(items)"
   ]
  },
  {
   "cell_type": "code",
   "execution_count": null,
   "metadata": {},
   "outputs": [],
   "source": [
    "for i in range(len(my_tuple)):\n",
    "    print(my_tuple[i])"
   ]
  }
 ],
 "metadata": {
  "kernelspec": {
   "display_name": "python-programmering-Max-Raine-Y7IIHyHe",
   "language": "python",
   "name": "python3"
  },
  "language_info": {
   "codemirror_mode": {
    "name": "ipython",
    "version": 3
   },
   "file_extension": ".py",
   "mimetype": "text/x-python",
   "name": "python",
   "nbconvert_exporter": "python",
   "pygments_lexer": "ipython3",
   "version": "3.11.5"
  },
  "orig_nbformat": 4
 },
 "nbformat": 4,
 "nbformat_minor": 2
}
