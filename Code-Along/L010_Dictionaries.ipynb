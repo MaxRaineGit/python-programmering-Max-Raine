{
 "cells": [
  {
   "cell_type": "markdown",
   "metadata": {},
   "source": [
    "# Dictionaries\n",
    "- Dictionaries are used to store data in a key-value pairs.\n",
    "- Keys are used tto access values, and must ne unique.\n",
    "- Only immutable types (eg. strting, int, float, bool) can be used as keys."
   ]
  },
  {
   "cell_type": "code",
   "execution_count": 9,
   "metadata": {},
   "outputs": [
    {
     "name": "stdout",
     "output_type": "stream",
     "text": [
      "len(teacher) = 5\n",
      "teacher = {'Firstname': 'Fredrik', 'age': 42, 'languages': ['Python', 'C#', 'Javascript'], 'Contactinfo': {'phone': '0709423452', 'email': 'mail.mail@gmail.com'}, 'length': 1.8}\n",
      "removed_value = 'Johansson'\n"
     ]
    }
   ],
   "source": [
    "# Create empty dictionary\n",
    "empty_dictionary = {}\n",
    "\n",
    "# Create dictionary with items\n",
    "teacher = {\n",
    "    \"Firstname\": \"Fredrik\",\n",
    "    \"Lastname\": \"Johansson\",\n",
    "    \"age\": 42,\n",
    "    \"languages\": [\"Python\", \"C#\", \"Javascript\"],\n",
    "    \"Contactinfo\": {\n",
    "        \"phone\": \"0709423452\",\n",
    "        \"email\": \"mail.mail@gmail.com\"\n",
    "    }\n",
    "}\n",
    "\n",
    "# Get number of items in dictionary\n",
    "print(f\"{len(teacher) = }\")\n",
    "\n",
    "# Add key to dictionary\n",
    "teacher[\"length\"] = 1.80\n",
    "\n",
    "# Remove key from dictionary\n",
    "removed_value = teacher.pop(\"Lastname\")\n",
    "\n",
    "print(f\"{teacher = }\")\n",
    "print(f\"{removed_value = }\")"
   ]
  },
  {
   "cell_type": "markdown",
   "metadata": {},
   "source": [
    "## Get Value using key"
   ]
  },
  {
   "cell_type": "code",
   "execution_count": 12,
   "metadata": {},
   "outputs": [
    {
     "name": "stdout",
     "output_type": "stream",
     "text": [
      "😒\n"
     ]
    }
   ],
   "source": [
    "key = input(\"Enter Key: \")\n",
    "\n",
    "if key in teacher:\n",
    "    print(teacher[key])\n",
    "else:\n",
    "    print(\"😒\")"
   ]
  },
  {
   "cell_type": "code",
   "execution_count": 14,
   "metadata": {},
   "outputs": [
    {
     "name": "stdout",
     "output_type": "stream",
     "text": [
      "🦆\n"
     ]
    }
   ],
   "source": [
    "key = input(\"Enter Key: \")\n",
    "\n",
    "print(teacher.get(key, \"🦆\"))"
   ]
  },
  {
   "cell_type": "markdown",
   "metadata": {},
   "source": [
    "## Looping through a dictionary"
   ]
  },
  {
   "cell_type": "code",
   "execution_count": 24,
   "metadata": {},
   "outputs": [
    {
     "name": "stdout",
     "output_type": "stream",
     "text": [
      "Firstname\n",
      "age\n",
      "languages\n",
      "Contactinfo\n",
      "length\n",
      "\n",
      "Fredrik\n",
      "42\n",
      "['Python', 'C#', 'Javascript']\n",
      "{'phone': '0709423452', 'email': 'mail.mail@gmail.com'}\n",
      "1.8\n",
      "\n",
      "Firstname = Fredrik\n",
      "age = 42\n",
      "languages = ['Python', 'C#', 'Javascript']\n",
      "Contactinfo = {'phone': '0709423452', 'email': 'mail.mail@gmail.com'}\n",
      "length = 1.8\n",
      "\n",
      "Firstname = Fredrik\n",
      "age = 42\n",
      "languages = ['Python', 'C#', 'Javascript']\n",
      "Contactinfo = {'phone': '0709423452', 'email': 'mail.mail@gmail.com'}\n",
      "length = 1.8\n"
     ]
    }
   ],
   "source": [
    "for key in teacher.keys():\n",
    "    print(key)\n",
    "\n",
    "print()\n",
    "\n",
    "for value in teacher.values():\n",
    "    print(value)\n",
    "\n",
    "print()\n",
    "\n",
    "for key in teacher:\n",
    "    print(f\"{key} = {teacher[key]}\")\n",
    "\n",
    "print()\n",
    "\n",
    "for key, value in teacher.items():\n",
    "    print(f\"{key} = {value}\")"
   ]
  }
 ],
 "metadata": {
  "kernelspec": {
   "display_name": "Python-Max-Raine-HcuLBGuc",
   "language": "python",
   "name": "python3"
  },
  "language_info": {
   "codemirror_mode": {
    "name": "ipython",
    "version": 3
   },
   "file_extension": ".py",
   "mimetype": "text/x-python",
   "name": "python",
   "nbconvert_exporter": "python",
   "pygments_lexer": "ipython3",
   "version": "3.11.5"
  },
  "orig_nbformat": 4
 },
 "nbformat": 4,
 "nbformat_minor": 2
}
