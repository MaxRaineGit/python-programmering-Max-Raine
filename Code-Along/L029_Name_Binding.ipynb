{
 "cells": [
  {
   "cell_type": "markdown",
   "metadata": {},
   "source": [
    "# Name binding\n",
    "- Everything in Python is an object, meaning every entity has some metadata (attributes) and associated functionallity (methods).\n",
    "- Names can be bound to any object."
   ]
  },
  {
   "cell_type": "markdown",
   "metadata": {},
   "source": [
    "### Mutable vs ummutable objects\n",
    "- Numerics, strings and tuples are immutable, meaning their values can't change after they are created.\n",
    "- Almost everything else, including list, dictionaries and user-defined objects, are mutable, meaning the value has , methods that can chance the value in-place-"
   ]
  },
  {
   "cell_type": "code",
   "execution_count": 6,
   "metadata": {},
   "outputs": [
    {
     "name": "stdout",
     "output_type": "stream",
     "text": [
      "1\n",
      "2\n"
     ]
    }
   ],
   "source": [
    "a = 1\n",
    "print(a)\n",
    "a = 2\n",
    "print(a)"
   ]
  },
  {
   "cell_type": "markdown",
   "metadata": {},
   "source": [
    "## Rebinding the name vs mutating the value\n",
    "- Variables in Python doesn't work the same way as in langiages like c# and java.\n",
    "- a doesn't refer to a place in memory where we store different values.\n",
    "- rather values themselves are objects in momory, and a is the name bound to it.\n",
    "- a = 2 doesn't mutate the value of 'a', but rather create a new object '2' and rebinds a to it."
   ]
  },
  {
   "cell_type": "code",
   "execution_count": 7,
   "metadata": {},
   "outputs": [
    {
     "name": "stdout",
     "output_type": "stream",
     "text": [
      "a = 1 140736965174056\n",
      "b = 1 140736965174056\n",
      "\n",
      "a = 1 140736965174056\n",
      "b = 2 140736965174088\n"
     ]
    }
   ],
   "source": [
    "a = 1 \n",
    "b = 1\n",
    "\n",
    "print(f\"{a = }\", id(a))\n",
    "print(f\"{b = }\", id(b))\n",
    "\n",
    "print()\n",
    "b = 2\n",
    "print(f\"{a = }\", id(a))\n",
    "print(f\"{b = }\", id(b))"
   ]
  },
  {
   "cell_type": "code",
   "execution_count": 8,
   "metadata": {},
   "outputs": [
    {
     "name": "stdout",
     "output_type": "stream",
     "text": [
      "cat_a = <__main__.Cat object at 0x000002BC5F50FED0> 3008076250832\n",
      "\n",
      "cat_a.name = 'Bill' 3008070473392\n",
      "cat_b.name = 'Bill' 3008070473392\n",
      "\n",
      "cat_a.name = 'Bull' 3008070345584\n",
      "cat_b.name = 'Bull' 3008070345584\n",
      "\n",
      "cat_a.name = 'Måns' 3008076140576\n",
      "cat_b.name = 'Bull' 3008070345584\n"
     ]
    }
   ],
   "source": [
    "class Cat:\n",
    "    def __init__(self, name):\n",
    "        self.name = name\n",
    "\n",
    "cat_a = Cat(\"Bill\")\n",
    "\n",
    "print(f\"{cat_a = }\", id(cat_a))\n",
    "\n",
    "print()\n",
    "cat_b = cat_a\n",
    "\n",
    "print(f\"{cat_a.name = }\", id(cat_a.name))\n",
    "print(f\"{cat_b.name = }\", id(cat_b.name))\n",
    "\n",
    "print()\n",
    "cat_b.name = \"Bull\"\n",
    "\n",
    "print(f\"{cat_a.name = }\", id(cat_a.name))\n",
    "print(f\"{cat_b.name = }\", id(cat_b.name))\n",
    "\n",
    "print()\n",
    "cat_a = Cat(\"Måns\")\n",
    "\n",
    "print(f\"{cat_a.name = }\", id(cat_a.name))\n",
    "print(f\"{cat_b.name = }\", id(cat_b.name))"
   ]
  },
  {
   "cell_type": "markdown",
   "metadata": {},
   "source": [
    "### Names and values\n",
    "- Names refers to values.\n",
    "- Assignments never copies data.\n",
    "- Many names can refer to one value.\n",
    "- Changes in a value are visible through all of its names.\n",
    "- Names are reassigned independly of other names.\n",
    "- Objects live until nothing references them.\n",
    "\n",
    "*Python keeps track of how many references each object has, and automatically cleans up objects the have none. This is \"garbage collection\", and that means that you don't have to get rid of objects, they go away by themselfs when they are no longer needed.*"
   ]
  },
  {
   "cell_type": "code",
   "execution_count": 9,
   "metadata": {},
   "outputs": [
    {
     "name": "stdout",
     "output_type": "stream",
     "text": [
      "3008070473712\n",
      "3008070473712\n",
      "3008070473712\n"
     ]
    }
   ],
   "source": [
    "a = \"Pelle\"\n",
    "b = [\"Måns\", \"Pelle\", \"Bill\", \"Bull\"]\n",
    "c = Cat(\"Pelle\")\n",
    "\n",
    "print(id(a))\n",
    "print(id(b[1]))\n",
    "print(id(c.name))"
   ]
  },
  {
   "cell_type": "markdown",
   "metadata": {},
   "source": [
    "### References can be more then just names.\n",
    "\n",
    "Anything the can appear on the left-hand side of an assignment statment is a reference, such as:\n",
    "- List items\n",
    "- Dictionary keys and values\n",
    "- Object attributes\n",
    "- ... and so on"
   ]
  },
  {
   "cell_type": "code",
   "execution_count": 10,
   "metadata": {},
   "outputs": [
    {
     "name": "stdout",
     "output_type": "stream",
     "text": [
      "a = [1, 2, 3] 3008076421696\n",
      "b = [1, 2, 3] 3008076421696\n",
      "\n",
      "a = [1, 2, 3, 4] 3008076421696\n",
      "b = [1, 2, 3, 4] 3008076421696\n",
      "\n",
      "a = [1, 2, 3, 4] 3008076421696\n",
      "b = [1, 2, 3, 4] 3008076427776\n",
      "\n",
      "a = [1, 2, 3, 4] 3008076421696\n",
      "b = [1, 2, 3, 4, 5] 3008076427776\n"
     ]
    }
   ],
   "source": [
    "a = [1, 2, 3]\n",
    "b = a\n",
    "\n",
    "print(f\"{a = }\", id(a))\n",
    "print(f\"{b = }\", id(b))\n",
    "\n",
    "print()\n",
    "b.append(4)\n",
    "\n",
    "print(f\"{a = }\", id(a))\n",
    "print(f\"{b = }\", id(b))\n",
    "\n",
    "print()\n",
    "b = a.copy()\n",
    "\n",
    "print(f\"{a = }\", id(a))\n",
    "print(f\"{b = }\", id(b))\n",
    "\n",
    "print()\n",
    "b.append(5)\n",
    "\n",
    "print(f\"{a = }\", id(a))\n",
    "print(f\"{b = }\", id(b))\n",
    "\n"
   ]
  },
  {
   "cell_type": "markdown",
   "metadata": {},
   "source": [
    "### Identity vs equality\n",
    "- The \"is\" operator checks whether two variables refer to the same object.\n",
    "- the \"==\" operator checks whether the values of two variables are equal."
   ]
  },
  {
   "cell_type": "code",
   "execution_count": 11,
   "metadata": {},
   "outputs": [
    {
     "name": "stdout",
     "output_type": "stream",
     "text": [
      "cat_a.name = 'Pelle' 3008070473712\n",
      "cat_b.name = 'Pelle' 3008070473712\n",
      "\n",
      "cat_a.name = 'Pelle' 3008070473712\n",
      "cat_b.name = 'Måns' 3008072116832\n",
      "\n",
      "cat_a.friends = ['Bill', 'Bull', 'Pelle'] 3008070493440\n",
      "cat_b.friends = ['Bill', 'Bull', 'Pelle'] 3008070493440\n"
     ]
    }
   ],
   "source": [
    "import copy\n",
    "\n",
    "cat_a = Cat(\"Pelle\")\n",
    "cat_a.friends = [\"Bill\", \"Bull\"]\n",
    "\n",
    "cat_b = copy.copy(cat_a)\n",
    "\n",
    "print(f\"{cat_a.name = }\", id(cat_a.name))\n",
    "print(f\"{cat_b.name = }\", id(cat_b.name))\n",
    "\n",
    "print()\n",
    "cat_b.name = \"Måns\"\n",
    "\n",
    "print(f\"{cat_a.name = }\", id(cat_a.name))\n",
    "print(f\"{cat_b.name = }\", id(cat_b.name))\n",
    "\n",
    "print()\n",
    "cat_b.friends.append(\"Pelle\")\n",
    "\n",
    "print(f\"{cat_a.friends = }\", id(cat_a.friends))\n",
    "print(f\"{cat_b.friends = }\", id(cat_b.friends))"
   ]
  },
  {
   "cell_type": "markdown",
   "metadata": {},
   "source": [
    "### Shallow vs deep copy\n",
    "- Assignment statement in Python do not create copies of objects, they only bind names to an object.\n",
    "- A **shallow copy** means constructing a new collection objectt and then populating it with references to the child objects found in the original. In essence, a shallow copy is only one level deep. The copying process does not recurse and therefore won't create copies of the child objects themselfs.\n",
    "- A **deep copy** makes the copying precess recursive. it means first constructing a new collection object and then recursivly populating it with copies of the child objects found in the original. Copying an object this way walks the whole object tree to create a fully idependent clone of the original object and all of its children."
   ]
  },
  {
   "cell_type": "code",
   "execution_count": 2,
   "metadata": {},
   "outputs": [
    {
     "name": "stdout",
     "output_type": "stream",
     "text": [
      "True\n",
      "This is my function!\n",
      "This is my function!\n",
      "Now my_func refers to a new function!\n",
      "This is my function!\n"
     ]
    }
   ],
   "source": [
    "def my_func():\n",
    "    print(\"This is my function!\")\n",
    "\n",
    "print(callable(my_func))\n",
    "\n",
    "my_func()\n",
    "\n",
    "also_my_func = my_func\n",
    "\n",
    "also_my_func()\n",
    "\n",
    "def my_func():\n",
    "    print(\"Now my_func refers to a new function!\")\n",
    "\n",
    "my_func()\n",
    "also_my_func()"
   ]
  },
  {
   "cell_type": "markdown",
   "metadata": {},
   "source": [
    "### Lots of things are assignments\n",
    "Just as many things can serve as reference, there are many operation in Python that are assingments.\n",
    "\n",
    "Each of these lines is an assignment the name X:"
   ]
  },
  {
   "cell_type": "code",
   "execution_count": null,
   "metadata": {},
   "outputs": [],
   "source": [
    "# X = ...\n",
    "# for X in ...\n",
    "# [... for X in ...]\n",
    "# def X(...):\n",
    "# class X:\n",
    "# import X\n",
    "# from ... import X\n",
    "# with ... as X"
   ]
  },
  {
   "cell_type": "markdown",
   "metadata": {},
   "source": [
    "It's not that these statements act kind of like assignments, but that they are real assignments. They all make the name X refer to an object, and every fact about assignment applies to all of them."
   ]
  },
  {
   "cell_type": "code",
   "execution_count": 1,
   "metadata": {},
   "outputs": [
    {
     "name": "stdout",
     "output_type": "stream",
     "text": [
      "Hello World!\n"
     ]
    }
   ],
   "source": [
    "# print = 5 // becomes an error\n",
    "print(\"Hello World!\")"
   ]
  },
  {
   "cell_type": "code",
   "execution_count": 13,
   "metadata": {},
   "outputs": [
    {
     "name": "stdout",
     "output_type": "stream",
     "text": [
      "Fredrik\n"
     ]
    }
   ],
   "source": [
    "def my_func():\n",
    "    x = \"Kalle\"\n",
    "\n",
    "x = \"Fredrik\"\n",
    "\n",
    "my_func()\n",
    "\n",
    "print(x)"
   ]
  },
  {
   "cell_type": "code",
   "execution_count": 18,
   "metadata": {},
   "outputs": [
    {
     "name": "stdout",
     "output_type": "stream",
     "text": [
      "Hello World!\n"
     ]
    }
   ],
   "source": [
    "def my_func(function, string):\n",
    "    function(string)\n",
    "\n",
    "my_func(print, \"Hello World!\")\n",
    "\n",
    "my_func(str, \"Hello World!\")"
   ]
  },
  {
   "cell_type": "code",
   "execution_count": 19,
   "metadata": {},
   "outputs": [
    {
     "name": "stdout",
     "output_type": "stream",
     "text": [
      "HELLOW WORLD\n",
      "hellow world\n",
      "Hellow world\n",
      "Hellow World\n"
     ]
    }
   ],
   "source": [
    "methods = [str.upper, str.lower, str.capitalize, str.title]\n",
    "\n",
    "for method in methods:\n",
    "    print(method(\"Hellow world\"))"
   ]
  },
  {
   "cell_type": "code",
   "execution_count": 21,
   "metadata": {},
   "outputs": [
    {
     "data": {
      "text/plain": [
       "[24.0, 32.5, 1.0]"
      ]
     },
     "execution_count": 21,
     "metadata": {},
     "output_type": "execute_result"
    }
   ],
   "source": [
    "list(map(float, [\"24.0\", \"32.5\", \"1\"]))"
   ]
  },
  {
   "cell_type": "code",
   "execution_count": 22,
   "metadata": {},
   "outputs": [
    {
     "data": {
      "text/plain": [
       "['kiwi', 'apple', 'melon', 'orange', 'grapes', 'pineapple']"
      ]
     },
     "execution_count": 22,
     "metadata": {},
     "output_type": "execute_result"
    }
   ],
   "source": [
    "fruits = [\"apple\", \"orange\", \"melon\", \"kiwi\", \"pineapple\", \"grapes\"]\n",
    "\n",
    "sorted(fruits, key=len)"
   ]
  },
  {
   "cell_type": "markdown",
   "metadata": {},
   "source": [
    "### Python passes function arguments by assigning to them.\n",
    "- Parameters are names used in a function\n",
    "- When calling a function, we provide actual values to be used as the arguments of the function.\n",
    "- these values are assigned to the parameter names just as if an assignment statment had been used."
   ]
  },
  {
   "cell_type": "code",
   "execution_count": 24,
   "metadata": {},
   "outputs": [
    {
     "data": {
      "text/plain": [
       "17"
      ]
     },
     "execution_count": 24,
     "metadata": {},
     "output_type": "execute_result"
    }
   ],
   "source": [
    "def my_func(x, y):\n",
    "    return x + y\n",
    "\n",
    "my_func(8, 9)"
   ]
  },
  {
   "cell_type": "markdown",
   "metadata": {},
   "source": [
    "When my_func is called, the name x has 8 assigned to it, and the name y has 9 assinged to it. That assignment works exactly the same as the simple assignment statement we've been talking about. The names x and y are local to the function, so when the function returns, those names go away. But if the values they refer to are still referenced by other names, the values lives on.\n",
    "\n",
    "Just like every other assignment, mutable values can be passed into function, and changes to the value will be visible through all of its names."
   ]
  },
  {
   "cell_type": "code",
   "execution_count": 25,
   "metadata": {},
   "outputs": [
    {
     "name": "stdout",
     "output_type": "stream",
     "text": [
      "Måns\n"
     ]
    }
   ],
   "source": [
    "def my_func(cat):\n",
    "    cat.name = \"Måns\"\n",
    "\n",
    "cat_a = Cat(\"Pelle\")\n",
    "my_func(cat_a)\n",
    "print(cat_a.name)"
   ]
  },
  {
   "cell_type": "code",
   "execution_count": 26,
   "metadata": {},
   "outputs": [
    {
     "name": "stdout",
     "output_type": "stream",
     "text": [
      "['A', 'B', 'C']\n",
      "['E', 'D']\n"
     ]
    }
   ],
   "source": [
    "def set_list(list):\n",
    "    list = ['A', 'B', 'C']\n",
    "    return list\n",
    "\n",
    "def append_list(list):\n",
    "    list.append('D')\n",
    "    return list\n",
    "\n",
    "my_list = ['E']\n",
    "\n",
    "print(set_list(my_list))\n",
    "print(append_list(my_list))"
   ]
  }
 ],
 "metadata": {
  "kernelspec": {
   "display_name": "python-programmering-Max-Raine-Y7IIHyHe",
   "language": "python",
   "name": "python3"
  },
  "language_info": {
   "codemirror_mode": {
    "name": "ipython",
    "version": 3
   },
   "file_extension": ".py",
   "mimetype": "text/x-python",
   "name": "python",
   "nbconvert_exporter": "python",
   "pygments_lexer": "ipython3",
   "version": "3.11.5"
  }
 },
 "nbformat": 4,
 "nbformat_minor": 2
}
