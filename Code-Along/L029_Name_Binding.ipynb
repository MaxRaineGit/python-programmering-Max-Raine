{
 "cells": [
  {
   "cell_type": "markdown",
   "metadata": {},
   "source": [
    "# Name binding\n",
    "- Everything in Python is an object, meaning every entity has some metadata (attributes) and associated functionallity (methods).\n",
    "- Names can be bound to any object."
   ]
  },
  {
   "cell_type": "markdown",
   "metadata": {},
   "source": [
    "### Mutable vs ummutable objects\n",
    "- Numerics, strings and tuples are immutable, meaning their values can't change after they are created.\n",
    "- Almost everything else, including list, dictionaries and user-defined objects, are mutable, meaning the value has , methods that can chance the value in-place-"
   ]
  },
  {
   "cell_type": "code",
   "execution_count": 8,
   "metadata": {},
   "outputs": [
    {
     "name": "stdout",
     "output_type": "stream",
     "text": [
      "1\n",
      "2\n"
     ]
    }
   ],
   "source": [
    "a = 1\n",
    "print(a)\n",
    "a = 2\n",
    "print(a)"
   ]
  },
  {
   "cell_type": "markdown",
   "metadata": {},
   "source": [
    "## Rebinding the name vs mutating the value\n",
    "- Variables in Python doesn't work the same way as in langiages like c# and java.\n",
    "- a doesn't refer to a place in memory where we store different values.\n",
    "- rather values themselves are objects in momory, and a is the name bound to it.\n",
    "- a = 2 doesn't mutate the value of 'a', but rather create a new object '2' and rebinds a to it."
   ]
  },
  {
   "cell_type": "code",
   "execution_count": 2,
   "metadata": {},
   "outputs": [
    {
     "name": "stdout",
     "output_type": "stream",
     "text": [
      "a = 1 140736965174056\n",
      "b = 1 140736965174056\n",
      "\n",
      "a = 1 140736965174056\n",
      "b = 2 140736965174088\n"
     ]
    }
   ],
   "source": [
    "a = 1 \n",
    "b = 1\n",
    "\n",
    "print(f\"{a = }\", id(a))\n",
    "print(f\"{b = }\", id(b))\n",
    "\n",
    "print()\n",
    "b = 2\n",
    "print(f\"{a = }\", id(a))\n",
    "print(f\"{b = }\", id(b))"
   ]
  },
  {
   "cell_type": "code",
   "execution_count": 7,
   "metadata": {},
   "outputs": [
    {
     "name": "stdout",
     "output_type": "stream",
     "text": [
      "cat_a = <__main__.Cat object at 0x00000295A399D5D0> 2841718150608\n",
      "\n",
      "cat_a.name = 'Bill' 2841717943920\n",
      "cat_b.name = 'Bill' 2841717943920\n",
      "\n",
      "cat_a.name = 'Bull' 2841718109488\n",
      "cat_b.name = 'Bull' 2841718109488\n",
      "\n",
      "cat_a.name = 'Måns' 2841718199664\n",
      "cat_b.name = 'Bull' 2841718109488\n"
     ]
    }
   ],
   "source": [
    "class Cat:\n",
    "    def __init__(self, name):\n",
    "        self.name = name\n",
    "\n",
    "cat_a = Cat(\"Bill\")\n",
    "\n",
    "print(f\"{cat_a = }\", id(cat_a))\n",
    "\n",
    "print()\n",
    "cat_b = cat_a\n",
    "\n",
    "print(f\"{cat_a.name = }\", id(cat_a.name))\n",
    "print(f\"{cat_b.name = }\", id(cat_b.name))\n",
    "\n",
    "print()\n",
    "cat_b.name = \"Bull\"\n",
    "\n",
    "print(f\"{cat_a.name = }\", id(cat_a.name))\n",
    "print(f\"{cat_b.name = }\", id(cat_b.name))\n",
    "\n",
    "print()\n",
    "cat_a = Cat(\"Måns\")\n",
    "\n",
    "print(f\"{cat_a.name = }\", id(cat_a.name))\n",
    "print(f\"{cat_b.name = }\", id(cat_b.name))"
   ]
  },
  {
   "cell_type": "markdown",
   "metadata": {},
   "source": [
    "### Names and values\n",
    "- Names refers to values.\n",
    "- Assignments never copies data.\n",
    "- Many names can refer to one value.\n",
    "- Changes in a value are visible through all of its names.\n",
    "- Names are reassigned independly of other names.\n",
    "- Objects live until nothing references them.\n",
    "\n",
    "*Python keeps track of how many references each object has, and automatically cleans up objects the have none. This is \"garbage collection\", and that means that you don't have to get rid of objects, they go away by themselfs when they are no longer needed.*"
   ]
  },
  {
   "cell_type": "code",
   "execution_count": 13,
   "metadata": {},
   "outputs": [
    {
     "name": "stdout",
     "output_type": "stream",
     "text": [
      "2841718144560\n",
      "2841718144560\n",
      "2841718144560\n"
     ]
    }
   ],
   "source": [
    "a = \"Pelle\"\n",
    "b = [\"Måns\", \"Pelle\", \"Bill\", \"Bull\"]\n",
    "c = Cat(\"Pelle\")\n",
    "\n",
    "print(id(a))\n",
    "print(id(b[1]))\n",
    "print(id(c.name))"
   ]
  },
  {
   "cell_type": "markdown",
   "metadata": {},
   "source": [
    "### References can be more then just names.\n",
    "\n",
    "Anything the can appear on the left-hand side of an assignment statment is a reference, such as:\n",
    "- List items\n",
    "- Dictionary keys and values\n",
    "- Object attributes\n",
    "- ... and so on"
   ]
  },
  {
   "cell_type": "code",
   "execution_count": 19,
   "metadata": {},
   "outputs": [
    {
     "name": "stdout",
     "output_type": "stream",
     "text": [
      "a = [1, 2, 3] 2841724139136\n",
      "b = [1, 2, 3] 2841724139136\n",
      "\n",
      "a = [1, 2, 3, 4] 2841724139136\n",
      "b = [1, 2, 3, 4] 2841724139136\n",
      "\n",
      "a = [1, 2, 3, 4] 2841724139136\n",
      "b = [1, 2, 3, 4] 2841724137536\n",
      "\n",
      "a = [1, 2, 3, 4] 2841724139136\n",
      "b = [1, 2, 3, 4, 5] 2841724137536\n"
     ]
    }
   ],
   "source": [
    "a = [1, 2, 3]\n",
    "b = a\n",
    "\n",
    "print(f\"{a = }\", id(a))\n",
    "print(f\"{b = }\", id(b))\n",
    "\n",
    "print()\n",
    "b.append(4)\n",
    "\n",
    "print(f\"{a = }\", id(a))\n",
    "print(f\"{b = }\", id(b))\n",
    "\n",
    "print()\n",
    "b = a.copy()\n",
    "\n",
    "print(f\"{a = }\", id(a))\n",
    "print(f\"{b = }\", id(b))\n",
    "\n",
    "print()\n",
    "b.append(5)\n",
    "\n",
    "print(f\"{a = }\", id(a))\n",
    "print(f\"{b = }\", id(b))\n",
    "\n"
   ]
  },
  {
   "cell_type": "markdown",
   "metadata": {},
   "source": [
    "### Identity vs equality\n",
    "- The \"is\" operator checks whether two variables refer to the same object.\n",
    "- the \"==\" operator checks whether the values of two variables are equal."
   ]
  },
  {
   "cell_type": "code",
   "execution_count": 24,
   "metadata": {},
   "outputs": [
    {
     "name": "stdout",
     "output_type": "stream",
     "text": [
      "cat_a.name = 'Pelle' 2841718144560\n",
      "cat_b.name = 'Pelle' 2841718144560\n",
      "\n",
      "cat_a.name = 'Pelle' 2841718144560\n",
      "cat_b.name = 'Måns' 2841717377344\n",
      "\n",
      "cat_a.friends = ['Bill', 'Bull', 'Pelle'] 2841724133440\n",
      "cat_b.friends = ['Bill', 'Bull', 'Pelle'] 2841724133440\n"
     ]
    }
   ],
   "source": [
    "import copy\n",
    "\n",
    "cat_a = Cat(\"Pelle\")\n",
    "cat_a.friends = [\"Bill\", \"Bull\"]\n",
    "\n",
    "cat_b = copy.copy(cat_a)\n",
    "\n",
    "print(f\"{cat_a.name = }\", id(cat_a.name))\n",
    "print(f\"{cat_b.name = }\", id(cat_b.name))\n",
    "\n",
    "print()\n",
    "cat_b.name = \"Måns\"\n",
    "\n",
    "print(f\"{cat_a.name = }\", id(cat_a.name))\n",
    "print(f\"{cat_b.name = }\", id(cat_b.name))\n",
    "\n",
    "print()\n",
    "cat_b.friends.append(\"Pelle\")\n",
    "\n",
    "print(f\"{cat_a.friends = }\", id(cat_a.friends))\n",
    "print(f\"{cat_b.friends = }\", id(cat_b.friends))"
   ]
  },
  {
   "cell_type": "markdown",
   "metadata": {},
   "source": [
    "### Shallow vs deep copy\n",
    "- Assignment statement in Python do not create copies of objects, they only bind names to an object.\n",
    "- A **shallow copy** means constructing a new collection objectt and then populating it with references to the child objects found in the original. In essence, a shallow copy is only one level deep. The copying process does not recurse and therefore won't create copies of the child objects themselfs.\n",
    "- A **deep copy** makes the copying precess recursive. it means first constructing a new collection object and then recursivly populating it with copies of the child objects found in the original. Copying an object this way"
   ]
  }
 ],
 "metadata": {
  "kernelspec": {
   "display_name": "python-programmering-Max-Raine-Y7IIHyHe",
   "language": "python",
   "name": "python3"
  },
  "language_info": {
   "codemirror_mode": {
    "name": "ipython",
    "version": 3
   },
   "file_extension": ".py",
   "mimetype": "text/x-python",
   "name": "python",
   "nbconvert_exporter": "python",
   "pygments_lexer": "ipython3",
   "version": "3.11.5"
  }
 },
 "nbformat": 4,
 "nbformat_minor": 2
}
