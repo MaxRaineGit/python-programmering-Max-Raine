{
 "cells": [
  {
   "cell_type": "markdown",
   "metadata": {},
   "source": [
    "# Count with Python"
   ]
  },
  {
   "cell_type": "markdown",
   "metadata": {},
   "source": [
    "### 1. Pythagorean theorem"
   ]
  },
  {
   "cell_type": "code",
   "execution_count": 9,
   "metadata": {},
   "outputs": [
    {
     "name": "stdout",
     "output_type": "stream",
     "text": [
      "5.0\n"
     ]
    }
   ],
   "source": [
    "import math\n",
    "\n",
    "# a) A right angled triangle has the catheti: a = 3 and b = 4 length units. Compute the hypothenuse of the triangle.\n",
    "a = 3 ** 2\n",
    "b = 4 ** 2\n",
    "\n",
    "c = a + b\n",
    "\n",
    "Hypothenuse = math.sqrt(c)\n",
    "print(Hypothenuse)"
   ]
  },
  {
   "cell_type": "code",
   "execution_count": 18,
   "metadata": {},
   "outputs": [
    {
     "name": "stdout",
     "output_type": "stream",
     "text": [
      "4.9\n"
     ]
    }
   ],
   "source": [
    "import math\n",
    "\n",
    "# b) A right angled triangle has hypothenuse c = 7.0 and a cathetus a = 5.0 length units. Compute the other cathetus and round to one decimal.\n",
    "c = 7 ** 2\n",
    "a = 5 ** 2\n",
    "\n",
    "b = c - a\n",
    "\n",
    "cathetus = (math.sqrt(b))\n",
    "answer = round(cathetus, 2)\n",
    "print(answer)"
   ]
  },
  {
   "cell_type": "markdown",
   "metadata": {},
   "source": [
    "### 2. Classification accuracy"
   ]
  },
  {
   "cell_type": "code",
   "execution_count": 25,
   "metadata": {},
   "outputs": [
    {
     "name": "stdout",
     "output_type": "stream",
     "text": [
      "82%\n"
     ]
    }
   ],
   "source": [
    "import math\n",
    "\n",
    "# A machine learning algorithm has been trained to predict whether or not it would rain the next day. Out of 365 predictions, it got 300 correct, compute the accuracy of this model.\n",
    "predictions = 365\n",
    "correct = 300\n",
    "\n",
    "accuracy = correct / predictions\n",
    "print(f\"{accuracy:.0%}\")"
   ]
  },
  {
   "cell_type": "markdown",
   "metadata": {},
   "source": [
    "### 3. Classification accuracy"
   ]
  },
  {
   "cell_type": "code",
   "execution_count": 28,
   "metadata": {},
   "outputs": [
    {
     "name": "stdout",
     "output_type": "stream",
     "text": [
      "98.7%\n"
     ]
    }
   ],
   "source": [
    "import math\n",
    "\n",
    "TP = 2\n",
    "FP = 2\n",
    "FN = 11\n",
    "TN = 985\n",
    "\n",
    "correct = TP + TN\n",
    "wrong = FP + FN\n",
    "\n",
    "total = correct + wrong\n",
    "\n",
    "accuracy = correct / total\n",
    "print(f\"{accuracy:.1%}\")"
   ]
  }
 ],
 "metadata": {
  "kernelspec": {
   "display_name": "Python-Max-Raine-HcuLBGuc",
   "language": "python",
   "name": "python3"
  },
  "language_info": {
   "codemirror_mode": {
    "name": "ipython",
    "version": 3
   },
   "file_extension": ".py",
   "mimetype": "text/x-python",
   "name": "python",
   "nbconvert_exporter": "python",
   "pygments_lexer": "ipython3",
   "version": "3.11.5"
  },
  "orig_nbformat": 4
 },
 "nbformat": 4,
 "nbformat_minor": 2
}
