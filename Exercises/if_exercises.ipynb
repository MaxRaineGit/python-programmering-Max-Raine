{
 "cells": [
  {
   "cell_type": "markdown",
   "metadata": {},
   "source": [
    "## 1 Check Sign"
   ]
  },
  {
   "cell_type": "code",
   "execution_count": 10,
   "metadata": {},
   "outputs": [
    {
     "name": "stdout",
     "output_type": "stream",
     "text": [
      "-5 Is a negative number!\n"
     ]
    }
   ],
   "source": [
    "user_input = input(\"Write a number: \")\n",
    "number = int(user_input)\n",
    "\n",
    "if number > 0:\n",
    "    print(f\"{number} is a positive number!\") \n",
    "elif number == 0:\n",
    "    print(f\"{number} Is neither a positive or negative number\")\n",
    "elif number < 0:\n",
    "    print(f\"{number} Is a negative number!\")\n"
   ]
  },
  {
   "cell_type": "markdown",
   "metadata": {},
   "source": [
    "## 3 Right angle"
   ]
  },
  {
   "cell_type": "code",
   "execution_count": 12,
   "metadata": {},
   "outputs": [
    {
     "name": "stdout",
     "output_type": "stream",
     "text": [
      "This is not a triangle!\n"
     ]
    }
   ],
   "source": [
    "angle_a = input(\"Please give angle a: \")\n",
    "angle_b = input(\"Please give angle b: \")\n",
    "angle_c = input(\"Please give angle c: \")\n",
    "\n",
    "if angle_a + angle_b + angle_c == 180:\n",
    "    print(\"This is a triangle!\")\n",
    "    if angle_a == 90 or angle_b == 90 or angle_c == 90:\n",
    "        print(\"This is a right triangle!\")\n",
    "else:\n",
    "    print(\"This is not a triangle!\")"
   ]
  }
 ],
 "metadata": {
  "language_info": {
   "name": "python"
  },
  "orig_nbformat": 4
 },
 "nbformat": 4,
 "nbformat_minor": 2
}
