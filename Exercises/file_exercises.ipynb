{
 "cells": [
  {
   "cell_type": "markdown",
   "metadata": {},
   "source": [
    "### 1. Dice rolls (*)\n",
    "Create a textfile called dice_rolls.txt using Python. Also for each subtask, write adequate headers.\n",
    "\n",
    "  a)   Simulate 20 dice rolls and write them to your textfile. (*)\n",
    "\n",
    "  b)   Sort the dice rolls from a) and write them to a separate row in the same textfile. (*)\n",
    "\n",
    "  c)   Count the number of fours in the dice rolls and write them to a separate row in the same textfile. (*)"
   ]
  },
  {
   "cell_type": "code",
   "execution_count": 16,
   "metadata": {},
   "outputs": [],
   "source": [
    "import random\n",
    "\n",
    "dice_result = []\n",
    "for i in range(20):\n",
    "    roll = random.randint(1, 6)\n",
    "    dice_result.append(roll)\n",
    "\n",
    "with open(\"..\\\\data\\\\dice_rolls.txt\", \"w\") as file:\n",
    "    file.write(''.join(str(dice_result)))\n",
    "    file.close\n",
    "\n",
    "dice_result.sort()\n",
    "new_dice_result = [item for item in dice_result if item == 4]\n",
    "\n",
    "with open(\"..\\\\data\\\\dice_rolls.txt\", \"a\") as file:\n",
    "    file.write(\"\\n\")\n",
    "    file.write(''.join(str(dice_result)))\n",
    "    file.write(\"\\n\")\n",
    "    file.write(f\"{len(new_dice_result)} is how many times the dice landed on a 4\")\n",
    "    file.write('\\n')\n",
    "    file.write(''.join(str(new_dice_result)))\n",
    "    "
   ]
  }
 ],
 "metadata": {
  "kernelspec": {
   "display_name": "python-programmering-Max-Raine-Y7IIHyHe",
   "language": "python",
   "name": "python3"
  },
  "language_info": {
   "codemirror_mode": {
    "name": "ipython",
    "version": 3
   },
   "file_extension": ".py",
   "mimetype": "text/x-python",
   "name": "python",
   "nbconvert_exporter": "python",
   "pygments_lexer": "ipython3",
   "version": "3.11.5"
  },
  "orig_nbformat": 4
 },
 "nbformat": 4,
 "nbformat_minor": 2
}
